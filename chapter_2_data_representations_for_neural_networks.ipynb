{
  "nbformat": 4,
  "nbformat_minor": 0,
  "metadata": {
    "colab": {
      "provenance": [],
      "authorship_tag": "ABX9TyMLacJQ9hf9axvyaGeOEQo+",
      "include_colab_link": true
    },
    "kernelspec": {
      "name": "python3",
      "display_name": "Python 3"
    },
    "language_info": {
      "name": "python"
    }
  },
  "cells": [
    {
      "cell_type": "markdown",
      "metadata": {
        "id": "view-in-github",
        "colab_type": "text"
      },
      "source": [
        "<a href=\"https://colab.research.google.com/github/Adrianopogianeli/deep_learning_with_pyhon_sencond_edition/blob/master/chapter_2_data_representations_for_neural_networks.ipynb\" target=\"_parent\"><img src=\"https://colab.research.google.com/assets/colab-badge.svg\" alt=\"Open In Colab\"/></a>"
      ]
    },
    {
      "cell_type": "code",
      "execution_count": 23,
      "metadata": {
        "colab": {
          "base_uri": "https://localhost:8080/"
        },
        "id": "IQ2gvgLG1VVf",
        "outputId": "0fc38f5c-092e-4993-873b-0ec0ec63f819"
      },
      "outputs": [
        {
          "output_type": "execute_result",
          "data": {
            "text/plain": [
              "array(12)"
            ]
          },
          "metadata": {},
          "execution_count": 23
        }
      ],
      "source": [
        "#2.2.1 Scalars: (rank-0 tensors)\n",
        "import numpy as np\n",
        "x = np.array(12)\n",
        "x\n"
      ]
    },
    {
      "cell_type": "code",
      "source": [
        "x.ndim\n",
        "print('number of dimension: %s'%x.ndim)"
      ],
      "metadata": {
        "colab": {
          "base_uri": "https://localhost:8080/"
        },
        "id": "n1tegcao1-Ya",
        "outputId": "2b2a6de0-25c3-4f81-a7f1-bf6841890a07"
      },
      "execution_count": 24,
      "outputs": [
        {
          "output_type": "stream",
          "name": "stdout",
          "text": [
            "number of dimension: 0\n"
          ]
        }
      ]
    },
    {
      "cell_type": "code",
      "source": [
        "#2.2.2 Vectors: (rank-1 tensors)\n",
        "x = np.array([12,3,6,14,7])\n",
        "x"
      ],
      "metadata": {
        "colab": {
          "base_uri": "https://localhost:8080/"
        },
        "id": "RAqsKMHx2DlU",
        "outputId": "890ef490-0dde-48a4-ed31-62d3d64dc6e6"
      },
      "execution_count": 25,
      "outputs": [
        {
          "output_type": "execute_result",
          "data": {
            "text/plain": [
              "array([12,  3,  6, 14,  7])"
            ]
          },
          "metadata": {},
          "execution_count": 25
        }
      ]
    },
    {
      "cell_type": "code",
      "source": [
        "x.ndim\n",
        "print('number of dimension: %s'%x.ndim)"
      ],
      "metadata": {
        "colab": {
          "base_uri": "https://localhost:8080/"
        },
        "id": "9aCva_4I3IVe",
        "outputId": "a5b7f769-941f-45a1-a87f-6b56cf2aa7b2"
      },
      "execution_count": 26,
      "outputs": [
        {
          "output_type": "stream",
          "name": "stdout",
          "text": [
            "number of dimension: 1\n"
          ]
        }
      ]
    },
    {
      "cell_type": "code",
      "source": [
        "#2.2.3 Matrices (rank-2 tensors)\n",
        "x = np.array([[5,23,22,1,5],\n",
        "             [6,34,1,7,89],\n",
        "             [7,23,43,76,32]])\n",
        "x"
      ],
      "metadata": {
        "colab": {
          "base_uri": "https://localhost:8080/"
        },
        "id": "IwprymM42MsR",
        "outputId": "7dd73bdf-88a2-43b3-b480-4c1df5ef0268"
      },
      "execution_count": 27,
      "outputs": [
        {
          "output_type": "execute_result",
          "data": {
            "text/plain": [
              "array([[ 5, 23, 22,  1,  5],\n",
              "       [ 6, 34,  1,  7, 89],\n",
              "       [ 7, 23, 43, 76, 32]])"
            ]
          },
          "metadata": {},
          "execution_count": 27
        }
      ]
    },
    {
      "cell_type": "code",
      "source": [
        "x.ndim\n",
        "print('number of dimension: %s'%x.ndim)"
      ],
      "metadata": {
        "colab": {
          "base_uri": "https://localhost:8080/"
        },
        "id": "sZ2ihoPE5myo",
        "outputId": "8c26163c-8bf1-4b17-ed44-15824e617f93"
      },
      "execution_count": 28,
      "outputs": [
        {
          "output_type": "stream",
          "name": "stdout",
          "text": [
            "number of dimension: 2\n"
          ]
        }
      ]
    },
    {
      "cell_type": "code",
      "source": [
        "#2.2.4 Rank-3 and higher-rank tensors = it is a matrices's pack\n",
        "x = np.array([\n",
        "    [[5,23,22,1,5],\n",
        "      [6,34,1,7,89],\n",
        "      [7,23,43,76,32]],\n",
        "          [[5,23,22,1,5],\n",
        "          [6,34,1,7,89],\n",
        "          [7,23,43,76,32]],\n",
        "             [[5,23,22,1,5],\n",
        "             [6,34,1,7,89],\n",
        "             [7,23,43,76,32]]\n",
        "             ]\n",
        "             )"
      ],
      "metadata": {
        "id": "p7pr47mP5pnR"
      },
      "execution_count": 29,
      "outputs": []
    },
    {
      "cell_type": "code",
      "source": [
        "x.ndim\n",
        "print('number of dimension: %s'%x.ndim)"
      ],
      "metadata": {
        "colab": {
          "base_uri": "https://localhost:8080/"
        },
        "id": "M3oPRjsL7pWn",
        "outputId": "6bd50642-5528-4b41-f810-7347fe8c9d80"
      },
      "execution_count": 32,
      "outputs": [
        {
          "output_type": "stream",
          "name": "stdout",
          "text": [
            "number of dimension: 3\n"
          ]
        }
      ]
    },
    {
      "cell_type": "code",
      "source": [],
      "metadata": {
        "id": "jUCdKDyE8xYd"
      },
      "execution_count": null,
      "outputs": []
    }
  ]
}