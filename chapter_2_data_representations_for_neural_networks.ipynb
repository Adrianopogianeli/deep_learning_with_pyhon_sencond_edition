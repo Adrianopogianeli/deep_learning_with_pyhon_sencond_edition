{
  "nbformat": 4,
  "nbformat_minor": 0,
  "metadata": {
    "colab": {
      "provenance": [],
      "authorship_tag": "ABX9TyP0fgUrK5gv7KKX/6IWYQtp",
      "include_colab_link": true
    },
    "kernelspec": {
      "name": "python3",
      "display_name": "Python 3"
    },
    "language_info": {
      "name": "python"
    }
  },
  "cells": [
    {
      "cell_type": "markdown",
      "metadata": {
        "id": "view-in-github",
        "colab_type": "text"
      },
      "source": [
        "<a href=\"https://colab.research.google.com/github/Adrianopogianeli/deep_learning_with_pyhon_sencond_edition/blob/master/chapter_2_data_representations_for_neural_networks.ipynb\" target=\"_parent\"><img src=\"https://colab.research.google.com/assets/colab-badge.svg\" alt=\"Open In Colab\"/></a>"
      ]
    },
    {
      "cell_type": "code",
      "execution_count": 1,
      "metadata": {
        "colab": {
          "base_uri": "https://localhost:8080/"
        },
        "id": "IQ2gvgLG1VVf",
        "outputId": "42239f81-d418-41b1-e20d-94a63f79475e"
      },
      "outputs": [
        {
          "output_type": "execute_result",
          "data": {
            "text/plain": [
              "array(12)"
            ]
          },
          "metadata": {},
          "execution_count": 1
        }
      ],
      "source": [
        "#2.2.1 Scalars: (rank-0 tensors)\n",
        "import numpy as np\n",
        "x = np.array(12)\n",
        "x\n"
      ]
    },
    {
      "cell_type": "code",
      "source": [
        "x.ndim\n",
        "print('number of axes: %s'%x.ndim)\n",
        "print('number of dimension: %s'%str(x.shape))"
      ],
      "metadata": {
        "colab": {
          "base_uri": "https://localhost:8080/"
        },
        "id": "n1tegcao1-Ya",
        "outputId": "2a78616d-890c-4a4f-acfe-d4409e5686f0"
      },
      "execution_count": 2,
      "outputs": [
        {
          "output_type": "stream",
          "name": "stdout",
          "text": [
            "number of axes: 0\n",
            "number of dimension: ()\n"
          ]
        }
      ]
    },
    {
      "cell_type": "code",
      "source": [
        "#2.2.2 Vectors: (rank-1 tensors)\n",
        "x = np.array([12,3,6,14,7])\n",
        "x"
      ],
      "metadata": {
        "colab": {
          "base_uri": "https://localhost:8080/"
        },
        "id": "RAqsKMHx2DlU",
        "outputId": "787bb214-d780-49a8-f516-fa6ebd75bcf8"
      },
      "execution_count": 3,
      "outputs": [
        {
          "output_type": "execute_result",
          "data": {
            "text/plain": [
              "array([12,  3,  6, 14,  7])"
            ]
          },
          "metadata": {},
          "execution_count": 3
        }
      ]
    },
    {
      "cell_type": "code",
      "source": [
        "x.ndim\n",
        "print('number of axes: %s'%x.ndim)\n",
        "print('number of dimension: %s'%str(x.shape))"
      ],
      "metadata": {
        "colab": {
          "base_uri": "https://localhost:8080/"
        },
        "id": "9aCva_4I3IVe",
        "outputId": "1a3c1682-1d7d-4bd7-c327-cd13b86718dc"
      },
      "execution_count": 4,
      "outputs": [
        {
          "output_type": "stream",
          "name": "stdout",
          "text": [
            "number of axes: 1\n",
            "number of dimension: (5,)\n"
          ]
        }
      ]
    },
    {
      "cell_type": "code",
      "source": [
        "#2.2.3 Matrices (rank-2 tensors) it is 2 axes: rows and lines\n",
        "x = np.array([[5,23,22,1,5],\n",
        "             [6,34,1,7,89],\n",
        "             [7,23,43,76,32]])\n",
        "x"
      ],
      "metadata": {
        "colab": {
          "base_uri": "https://localhost:8080/"
        },
        "id": "IwprymM42MsR",
        "outputId": "5461b16d-567a-4ac3-ea79-0df5a112b0a4"
      },
      "execution_count": 5,
      "outputs": [
        {
          "output_type": "execute_result",
          "data": {
            "text/plain": [
              "array([[ 5, 23, 22,  1,  5],\n",
              "       [ 6, 34,  1,  7, 89],\n",
              "       [ 7, 23, 43, 76, 32]])"
            ]
          },
          "metadata": {},
          "execution_count": 5
        }
      ]
    },
    {
      "cell_type": "code",
      "source": [
        "x.ndim\n",
        "print('number of axes: %s'%x.ndim)\n",
        "print('number of dimension: %s'%str(x.shape))"
      ],
      "metadata": {
        "colab": {
          "base_uri": "https://localhost:8080/"
        },
        "id": "sZ2ihoPE5myo",
        "outputId": "87f06689-b52b-4e0a-a4c1-c6cae75dccf5"
      },
      "execution_count": 6,
      "outputs": [
        {
          "output_type": "stream",
          "name": "stdout",
          "text": [
            "number of axes: 2\n",
            "number of dimension: (3, 5)\n"
          ]
        }
      ]
    },
    {
      "cell_type": "code",
      "source": [
        "#2.2.4 Rank-3 and higher-rank tensors = it is a matrices's pack, it is 3 axes because is has 3 matrices\n",
        "x = np.array([\n",
        "    [[5,23,22,1,5],\n",
        "      [6,34,1,7,89],\n",
        "      [7,23,43,76,32]],\n",
        "          [[5,23,22,1,5],\n",
        "          [6,34,1,7,89],\n",
        "          [7,23,43,76,32]],\n",
        "             [[5,23,22,1,5],\n",
        "             [6,34,1,7,89],\n",
        "             [7,23,43,76,32]]\n",
        "             ]\n",
        "             )"
      ],
      "metadata": {
        "id": "p7pr47mP5pnR"
      },
      "execution_count": 7,
      "outputs": []
    },
    {
      "cell_type": "code",
      "source": [
        "x.ndim\n",
        "print('number of axes: %s'%x.ndim)\n",
        "print('number of dimension: %s'%str(x.shape))"
      ],
      "metadata": {
        "colab": {
          "base_uri": "https://localhost:8080/"
        },
        "id": "M3oPRjsL7pWn",
        "outputId": "7ca59781-f11a-4402-f6a3-affd4249d8b9"
      },
      "execution_count": 8,
      "outputs": [
        {
          "output_type": "stream",
          "name": "stdout",
          "text": [
            "number of axes: 3\n",
            "number of dimension: (3, 3, 5)\n"
          ]
        }
      ]
    },
    {
      "cell_type": "code",
      "source": [
        "#2.2.5 Key attributes\n",
        "from tensorflow.keras.datasets import mnist\n",
        "(train_images,train_labels), (test_images, test_labels) = mnist.load_data()"
      ],
      "metadata": {
        "colab": {
          "base_uri": "https://localhost:8080/"
        },
        "id": "jUCdKDyE8xYd",
        "outputId": "7a3a8f51-7962-47a9-ea96-38110ba082b8"
      },
      "execution_count": 9,
      "outputs": [
        {
          "output_type": "stream",
          "name": "stdout",
          "text": [
            "Downloading data from https://storage.googleapis.com/tensorflow/tf-keras-datasets/mnist.npz\n",
            "11493376/11490434 [==============================] - 0s 0us/step\n",
            "11501568/11490434 [==============================] - 0s 0us/step\n"
          ]
        }
      ]
    },
    {
      "cell_type": "code",
      "source": [
        "#it is 3 axes because it has more than 2 matrices (rank2)\n",
        "train_images.ndim"
      ],
      "metadata": {
        "colab": {
          "base_uri": "https://localhost:8080/"
        },
        "id": "4izqHd2jc0aD",
        "outputId": "73e82be3-6aec-4f90-a0ab-d8d161f31ac4"
      },
      "execution_count": 10,
      "outputs": [
        {
          "output_type": "execute_result",
          "data": {
            "text/plain": [
              "3"
            ]
          },
          "metadata": {},
          "execution_count": 10
        }
      ]
    },
    {
      "cell_type": "code",
      "source": [
        "train_images.shape"
      ],
      "metadata": {
        "colab": {
          "base_uri": "https://localhost:8080/"
        },
        "id": "kZJEpwjbc53s",
        "outputId": "69cd51b7-cbc2-4953-815c-fb073791acd9"
      },
      "execution_count": 11,
      "outputs": [
        {
          "output_type": "execute_result",
          "data": {
            "text/plain": [
              "(60000, 28, 28)"
            ]
          },
          "metadata": {},
          "execution_count": 11
        }
      ]
    },
    {
      "cell_type": "code",
      "source": [
        "train_images.dtype"
      ],
      "metadata": {
        "colab": {
          "base_uri": "https://localhost:8080/"
        },
        "id": "mhMqR0vRdGl1",
        "outputId": "31b5aabc-fbcd-467a-bbfd-00b2696f7a6a"
      },
      "execution_count": 12,
      "outputs": [
        {
          "output_type": "execute_result",
          "data": {
            "text/plain": [
              "dtype('uint8')"
            ]
          },
          "metadata": {},
          "execution_count": 12
        }
      ]
    },
    {
      "cell_type": "code",
      "source": [
        "# Listing 2.8 Dispaly the fourth digit of the tensor rank3\n",
        "import matplotlib.pyplot as plt\n",
        "digit = train_images[4]\n",
        "plt.imshow(digit, cmap=plt.cm.binary)\n",
        "plt.show()"
      ],
      "metadata": {
        "colab": {
          "base_uri": "https://localhost:8080/",
          "height": 265
        },
        "id": "2vmjIvAsAEjK",
        "outputId": "2aeea204-d3c0-42b0-ff91-df2321c3b465"
      },
      "execution_count": 13,
      "outputs": [
        {
          "output_type": "display_data",
          "data": {
            "text/plain": [
              "<Figure size 432x288 with 1 Axes>"
            ],
            "image/png": "[encoded data removed]"
          },
          "metadata": {
            "needs_background": "light"
          }
        }
      ]
    },
    {
      "cell_type": "code",
      "source": [
        "## print all digits of the dataset\n",
        "import time\n",
        "#for item in range(len(train_images)):\n",
        "  #plt.imshow(train_images[item], cmap=plt.cm.binary)\n",
        "  #plt.show()\n",
        "  #time.sleep(2)"
      ],
      "metadata": {
        "id": "srgFXg14AEtT"
      },
      "execution_count": 14,
      "outputs": []
    },
    {
      "cell_type": "code",
      "source": [
        "train_labels[4]"
      ],
      "metadata": {
        "colab": {
          "base_uri": "https://localhost:8080/"
        },
        "id": "0OmEpPRqDc2n",
        "outputId": "47304532-825c-40a3-deaa-884e8c2b40f9"
      },
      "execution_count": 15,
      "outputs": [
        {
          "output_type": "execute_result",
          "data": {
            "text/plain": [
              "9"
            ]
          },
          "metadata": {},
          "execution_count": 15
        }
      ]
    },
    {
      "cell_type": "code",
      "source": [
        "#2.2.6 Manipulation tensors in Numpy\n",
        "my_slice = train_images[10:100]\n",
        "my_slice.shape"
      ],
      "metadata": {
        "colab": {
          "base_uri": "https://localhost:8080/"
        },
        "id": "kTsQ_upBDvHw",
        "outputId": "86374c78-367f-4ba1-a0e8-b167375140a2"
      },
      "execution_count": 16,
      "outputs": [
        {
          "output_type": "execute_result",
          "data": {
            "text/plain": [
              "(90, 28, 28)"
            ]
          },
          "metadata": {},
          "execution_count": 16
        }
      ]
    },
    {
      "cell_type": "code",
      "source": [
        "my_slice = train_images[10:100, :,:]\n",
        "my_slice.shape"
      ],
      "metadata": {
        "colab": {
          "base_uri": "https://localhost:8080/"
        },
        "id": "nfI5l7T9E03I",
        "outputId": "d76ff55c-8d90-4bff-ff7e-8cd5c0f5172b"
      },
      "execution_count": 17,
      "outputs": [
        {
          "output_type": "execute_result",
          "data": {
            "text/plain": [
              "(90, 28, 28)"
            ]
          },
          "metadata": {},
          "execution_count": 17
        }
      ]
    },
    {
      "cell_type": "code",
      "source": [
        "my_slice = train_images[10:100,0:28,0:28]\n",
        "my_slice.shape"
      ],
      "metadata": {
        "colab": {
          "base_uri": "https://localhost:8080/"
        },
        "id": "LxTqWfKWFOpm",
        "outputId": "f061c16e-ae6a-493c-fd6d-3b274821affd"
      },
      "execution_count": 18,
      "outputs": [
        {
          "output_type": "execute_result",
          "data": {
            "text/plain": [
              "(90, 28, 28)"
            ]
          },
          "metadata": {},
          "execution_count": 18
        }
      ]
    },
    {
      "cell_type": "code",
      "source": [
        "#select 14x14 pixes on bottom-rigth\n",
        "my_slice = train_images[:,0:14,0:14]\n",
        "my_slice.shape"
      ],
      "metadata": {
        "colab": {
          "base_uri": "https://localhost:8080/"
        },
        "id": "ywpTGiD9FWvl",
        "outputId": "d5ad88fd-1cdc-4374-cd1c-55ffce00bc08"
      },
      "execution_count": 19,
      "outputs": [
        {
          "output_type": "execute_result",
          "data": {
            "text/plain": [
              "(60000, 14, 14)"
            ]
          },
          "metadata": {},
          "execution_count": 19
        }
      ]
    },
    {
      "cell_type": "code",
      "source": [
        "my_slice = train_images[:,7:-7,7:-7]\n",
        "my_slice.shape"
      ],
      "metadata": {
        "colab": {
          "base_uri": "https://localhost:8080/"
        },
        "id": "7PoF-b5KFs3I",
        "outputId": "6502132d-8c81-40d6-a5cd-d1d878234362"
      },
      "execution_count": 20,
      "outputs": [
        {
          "output_type": "execute_result",
          "data": {
            "text/plain": [
              "(60000, 14, 14)"
            ]
          },
          "metadata": {},
          "execution_count": 20
        }
      ]
    },
    {
      "cell_type": "code",
      "source": [
        "#2.2.7 The notion of data batches\n",
        "batch = train_images[:128]\n",
        "batch.shape"
      ],
      "metadata": {
        "colab": {
          "base_uri": "https://localhost:8080/"
        },
        "id": "C8griuT2F-e5",
        "outputId": "14c40f30-2eea-4137-c8c1-b95238dc8446"
      },
      "execution_count": 21,
      "outputs": [
        {
          "output_type": "execute_result",
          "data": {
            "text/plain": [
              "(128, 28, 28)"
            ]
          },
          "metadata": {},
          "execution_count": 21
        }
      ]
    },
    {
      "cell_type": "code",
      "source": [
        "batch = train_images[128:256]\n",
        "batch.shape"
      ],
      "metadata": {
        "colab": {
          "base_uri": "https://localhost:8080/"
        },
        "id": "uYGeno5HI6m7",
        "outputId": "6abbdf53-d9bb-41bd-cb29-ed82782e3fe1"
      },
      "execution_count": 22,
      "outputs": [
        {
          "output_type": "execute_result",
          "data": {
            "text/plain": [
              "(128, 28, 28)"
            ]
          },
          "metadata": {},
          "execution_count": 22
        }
      ]
    },
    {
      "cell_type": "code",
      "source": [
        "n =3\n",
        "batch = train_images[128 * n: 128 * (n+1)]\n",
        "batch.shape"
      ],
      "metadata": {
        "colab": {
          "base_uri": "https://localhost:8080/"
        },
        "id": "qXXpPgmCI_hR",
        "outputId": "75a677bb-b566-4935-8a31-60797066d955"
      },
      "execution_count": 23,
      "outputs": [
        {
          "output_type": "execute_result",
          "data": {
            "text/plain": [
              "(128, 28, 28)"
            ]
          },
          "metadata": {},
          "execution_count": 23
        }
      ]
    },
    {
      "cell_type": "code",
      "source": [
        "#2.3 Tensor operators\n",
        "#keras.layers.Dense(512)\n",
        "#output = relu(dot(input, w)+ b)\n",
        "naive_test1 = np.array([[12,13,23],[1,4,3],[2,5,4],[3,6,5]])\n",
        "naive_test2 = np.array([[12,13,23],[1,2,3],[2,3,4],[3,4,6]])"
      ],
      "metadata": {
        "id": "pie6HJjWI2c1"
      },
      "execution_count": 29,
      "outputs": []
    },
    {
      "cell_type": "code",
      "source": [
        "#2.3.1 element-wise operations\n",
        "def naive_relu(x):\n",
        "  assert len(x.shape) == 2\n",
        "  x = x.copy() #avoid overwriting the input tensor\n",
        "  for i in range(x.shape[0]):\n",
        "    for j in range(x.shape[1]):\n",
        "      x[i,j] = max(x[i,j],0)\n",
        "  return x"
      ],
      "metadata": {
        "id": "NPL2u0yx2yYt"
      },
      "execution_count": 30,
      "outputs": []
    },
    {
      "cell_type": "code",
      "source": [
        "#naive_test.shape\n",
        "naive_relu(naive_test1)\n"
      ],
      "metadata": {
        "colab": {
          "base_uri": "https://localhost:8080/"
        },
        "id": "L2TiTCuT4A5U",
        "outputId": "6181afad-45b7-4654-8edc-e399befa8855"
      },
      "execution_count": 31,
      "outputs": [
        {
          "output_type": "execute_result",
          "data": {
            "text/plain": [
              "array([[12, 13, 23],\n",
              "       [ 1,  4,  3],\n",
              "       [ 2,  5,  4],\n",
              "       [ 3,  6,  5]])"
            ]
          },
          "metadata": {},
          "execution_count": 31
        }
      ]
    },
    {
      "cell_type": "code",
      "source": [
        "#2.3.1 element-wise operations for addition\n",
        "def naive_add(x, y): # x and y are rank-2 numpy tensors\n",
        "  assert len(x.shape) == 2\n",
        "  assert x.shape == y.shape\n",
        "  x = x.copy() #avoid overwriting the input tensor\n",
        "  for i in range(x.shape[0]):\n",
        "    for j in range(x.shape[1]):\n",
        "      x[i,j] += y[i,j]\n",
        "  return x"
      ],
      "metadata": {
        "id": "WwR6Dxnz4QEv"
      },
      "execution_count": 35,
      "outputs": []
    },
    {
      "cell_type": "code",
      "source": [
        "naive_add(naive_test1,naive_test2)"
      ],
      "metadata": {
        "colab": {
          "base_uri": "https://localhost:8080/"
        },
        "id": "_arThuku8PPs",
        "outputId": "91e0488e-4057-4dba-a9d7-c6e26405593c"
      },
      "execution_count": 36,
      "outputs": [
        {
          "output_type": "execute_result",
          "data": {
            "text/plain": [
              "array([[24, 26, 46],\n",
              "       [ 2,  6,  6],\n",
              "       [ 4,  8,  8],\n",
              "       [ 6, 10, 11]])"
            ]
          },
          "metadata": {},
          "execution_count": 36
        }
      ]
    },
    {
      "cell_type": "code",
      "source": [
        "#check the diference of time between numpy and naive wise element \n",
        "import numpy as np\n",
        "import time\n",
        "x = np.random.random((20,100))\n",
        "y = np.random.random((20,100))\n",
        "\n",
        "t0 = time.time()\n",
        "for _ in range(1000):\n",
        "  z = x + y\n",
        "  z = np.maximum(z,0.)\n",
        "print(\"Took: {0:.2f} s\".format(time.time() - t0))"
      ],
      "metadata": {
        "id": "PLpkzdE18Wub",
        "colab": {
          "base_uri": "https://localhost:8080/"
        },
        "outputId": "85863f14-27ba-4d57-c0ef-8a4b4a12ec29"
      },
      "execution_count": 34,
      "outputs": [
        {
          "output_type": "stream",
          "name": "stdout",
          "text": [
            "Took: 0.01 s\n"
          ]
        }
      ]
    },
    {
      "cell_type": "code",
      "source": [
        "import numpy as np\n",
        "import time\n",
        "x = np.random.random((20,100))\n",
        "y = np.random.random((20,100))\n",
        "\n",
        "t0 = time.time()\n",
        "for _ in range(1000):\n",
        "  z = naive_add(x,y)\n",
        "  z = naive_relu(z)\n",
        "print(\"Took: {0:.2f} s\".format(time.time() - t0))"
      ],
      "metadata": {
        "colab": {
          "base_uri": "https://localhost:8080/"
        },
        "id": "VmDjRucRRspY",
        "outputId": "799f1814-8e7c-4f8a-e32e-ea6d7d3e99d4"
      },
      "execution_count": 37,
      "outputs": [
        {
          "output_type": "stream",
          "name": "stdout",
          "text": [
            "Took: 2.60 s\n"
          ]
        }
      ]
    },
    {
      "cell_type": "code",
      "source": [
        "#2.3.2 Broadcasting\n",
        "import numpy as np\n",
        "x = np.random.random((32,10))\n",
        "print(\"x = {}\".format(x.shape))\n",
        "y = np.random.random((10,))\n",
        "print(\"y = {}\".format(y.shape))\n",
        "y = np.expand_dims(y, axis=0)\n",
        "print(\"after expand_dim y ={}\".format(y.shape))\n",
        "y"
      ],
      "metadata": {
        "colab": {
          "base_uri": "https://localhost:8080/"
        },
        "id": "ssJRLNpQSH7t",
        "outputId": "dc8f88f2-0ade-491a-87a7-0290db7c346d"
      },
      "execution_count": 50,
      "outputs": [
        {
          "output_type": "stream",
          "name": "stdout",
          "text": [
            "x = (32, 10)\n",
            "y = (10,)\n",
            "after expand_dim y =(1, 10)\n"
          ]
        },
        {
          "output_type": "execute_result",
          "data": {
            "text/plain": [
              "array([[0.84835861, 0.80496904, 0.09286867, 0.97407637, 0.34613634,\n",
              "        0.43618804, 0.32313239, 0.72726316, 0.69478987, 0.27751995]])"
            ]
          },
          "metadata": {},
          "execution_count": 50
        }
      ]
    },
    {
      "cell_type": "code",
      "source": [
        "y = np.concatenate([y] * 32, axis=0)\n",
        "y.shape"
      ],
      "metadata": {
        "colab": {
          "base_uri": "https://localhost:8080/"
        },
        "id": "nmYyvUOjVOhp",
        "outputId": "9381dd85-1b28-4e8e-8ce7-958d7691e1ab"
      },
      "execution_count": 48,
      "outputs": [
        {
          "output_type": "execute_result",
          "data": {
            "text/plain": [
              "(32, 10)"
            ]
          },
          "metadata": {},
          "execution_count": 48
        }
      ]
    },
    {
      "cell_type": "code",
      "source": [
        "# below the same concept but using naive implementation\n",
        "def naive_add_matrix_and_vector(x,y):\n",
        "  assert len(x.shape) == 2\n",
        "  assert len(y.shape) == 1\n",
        "  assert x.shape[1] == y.shape[0]\n",
        "  x = x.copy()\n",
        "  for i in range(x.shape[0]):\n",
        "    for j in range(x.shape[1]):\n",
        "      x[i,j] += y[j]\n",
        "  return x.shape"
      ],
      "metadata": {
        "id": "kLF-R1ahUZL0"
      },
      "execution_count": 55,
      "outputs": []
    },
    {
      "cell_type": "code",
      "source": [
        "x = np.random.random((32,10))\n",
        "y = np.random.random((10,))\n",
        "naive_add_matrix_and_vector(x,y)"
      ],
      "metadata": {
        "colab": {
          "base_uri": "https://localhost:8080/"
        },
        "id": "1DO1Fb3oX8sX",
        "outputId": "0ddf3950-7529-4e17-a62a-c9dd4e30f5df"
      },
      "execution_count": 57,
      "outputs": [
        {
          "output_type": "execute_result",
          "data": {
            "text/plain": [
              "(32, 10)"
            ]
          },
          "metadata": {},
          "execution_count": 57
        }
      ]
    },
    {
      "cell_type": "code",
      "source": [
        "import numpy as np\n",
        "x = np.random.random((64,3,32,10))\n",
        "y = np.random.random((32,10))\n",
        "z = np.maximum(x,y)\n",
        "z.shape"
      ],
      "metadata": {
        "colab": {
          "base_uri": "https://localhost:8080/"
        },
        "id": "bX89gXPGYOhR",
        "outputId": "c049bb04-a719-4e46-c9f2-fc4faf45ce1d"
      },
      "execution_count": 60,
      "outputs": [
        {
          "output_type": "execute_result",
          "data": {
            "text/plain": [
              "(64, 3, 32, 10)"
            ]
          },
          "metadata": {},
          "execution_count": 60
        }
      ]
    },
    {
      "cell_type": "code",
      "source": [
        "#2.3.3 Tensor product"
      ],
      "metadata": {
        "id": "xr9MKN3ZZJwj"
      },
      "execution_count": null,
      "outputs": []
    }
  ]
}