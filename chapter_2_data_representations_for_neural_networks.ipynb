{
  "nbformat": 4,
  "nbformat_minor": 0,
  "metadata": {
    "colab": {
      "provenance": [],
      "authorship_tag": "ABX9TyPvRizIh0t0fzTtP4+MKcm6",
      "include_colab_link": true
    },
    "kernelspec": {
      "name": "python3",
      "display_name": "Python 3"
    },
    "language_info": {
      "name": "python"
    }
  },
  "cells": [
    {
      "cell_type": "markdown",
      "metadata": {
        "id": "view-in-github",
        "colab_type": "text"
      },
      "source": [
        "<a href=\"https://colab.research.google.com/github/Adrianopogianeli/deep_learning_with_pyhon_sencond_edition/blob/master/chapter_2_data_representations_for_neural_networks.ipynb\" target=\"_parent\"><img src=\"https://colab.research.google.com/assets/colab-badge.svg\" alt=\"Open In Colab\"/></a>"
      ]
    },
    {
      "cell_type": "code",
      "execution_count": 1,
      "metadata": {
        "colab": {
          "base_uri": "https://localhost:8080/"
        },
        "id": "IQ2gvgLG1VVf",
        "outputId": "42239f81-d418-41b1-e20d-94a63f79475e"
      },
      "outputs": [
        {
          "output_type": "execute_result",
          "data": {
            "text/plain": [
              "array(12)"
            ]
          },
          "metadata": {},
          "execution_count": 1
        }
      ],
      "source": [
        "#2.2.1 Scalars: (rank-0 tensors)\n",
        "import numpy as np\n",
        "x = np.array(12)\n",
        "x\n"
      ]
    },
    {
      "cell_type": "code",
      "source": [
        "x.ndim\n",
        "print('number of axes: %s'%x.ndim)\n",
        "print('number of dimension: %s'%str(x.shape))"
      ],
      "metadata": {
        "colab": {
          "base_uri": "https://localhost:8080/"
        },
        "id": "n1tegcao1-Ya",
        "outputId": "2a78616d-890c-4a4f-acfe-d4409e5686f0"
      },
      "execution_count": 2,
      "outputs": [
        {
          "output_type": "stream",
          "name": "stdout",
          "text": [
            "number of axes: 0\n",
            "number of dimension: ()\n"
          ]
        }
      ]
    },
    {
      "cell_type": "code",
      "source": [
        "#2.2.2 Vectors: (rank-1 tensors)\n",
        "x = np.array([12,3,6,14,7])\n",
        "x"
      ],
      "metadata": {
        "colab": {
          "base_uri": "https://localhost:8080/"
        },
        "id": "RAqsKMHx2DlU",
        "outputId": "787bb214-d780-49a8-f516-fa6ebd75bcf8"
      },
      "execution_count": 3,
      "outputs": [
        {
          "output_type": "execute_result",
          "data": {
            "text/plain": [
              "array([12,  3,  6, 14,  7])"
            ]
          },
          "metadata": {},
          "execution_count": 3
        }
      ]
    },
    {
      "cell_type": "code",
      "source": [
        "x.ndim\n",
        "print('number of axes: %s'%x.ndim)\n",
        "print('number of dimension: %s'%str(x.shape))"
      ],
      "metadata": {
        "colab": {
          "base_uri": "https://localhost:8080/"
        },
        "id": "9aCva_4I3IVe",
        "outputId": "1a3c1682-1d7d-4bd7-c327-cd13b86718dc"
      },
      "execution_count": 4,
      "outputs": [
        {
          "output_type": "stream",
          "name": "stdout",
          "text": [
            "number of axes: 1\n",
            "number of dimension: (5,)\n"
          ]
        }
      ]
    },
    {
      "cell_type": "code",
      "source": [
        "#2.2.3 Matrices (rank-2 tensors) it is 2 axes: rows and lines\n",
        "x = np.array([[5,23,22,1,5],\n",
        "             [6,34,1,7,89],\n",
        "             [7,23,43,76,32]])\n",
        "x"
      ],
      "metadata": {
        "colab": {
          "base_uri": "https://localhost:8080/"
        },
        "id": "IwprymM42MsR",
        "outputId": "5461b16d-567a-4ac3-ea79-0df5a112b0a4"
      },
      "execution_count": 5,
      "outputs": [
        {
          "output_type": "execute_result",
          "data": {
            "text/plain": [
              "array([[ 5, 23, 22,  1,  5],\n",
              "       [ 6, 34,  1,  7, 89],\n",
              "       [ 7, 23, 43, 76, 32]])"
            ]
          },
          "metadata": {},
          "execution_count": 5
        }
      ]
    },
    {
      "cell_type": "code",
      "source": [
        "x.ndim\n",
        "print('number of axes: %s'%x.ndim)\n",
        "print('number of dimension: %s'%str(x.shape))"
      ],
      "metadata": {
        "colab": {
          "base_uri": "https://localhost:8080/"
        },
        "id": "sZ2ihoPE5myo",
        "outputId": "87f06689-b52b-4e0a-a4c1-c6cae75dccf5"
      },
      "execution_count": 6,
      "outputs": [
        {
          "output_type": "stream",
          "name": "stdout",
          "text": [
            "number of axes: 2\n",
            "number of dimension: (3, 5)\n"
          ]
        }
      ]
    },
    {
      "cell_type": "code",
      "source": [
        "#2.2.4 Rank-3 and higher-rank tensors = it is a matrices's pack, it is 3 axes because is has 3 matrices\n",
        "x = np.array([\n",
        "    [[5,23,22,1,5],\n",
        "      [6,34,1,7,89],\n",
        "      [7,23,43,76,32]],\n",
        "          [[5,23,22,1,5],\n",
        "          [6,34,1,7,89],\n",
        "          [7,23,43,76,32]],\n",
        "             [[5,23,22,1,5],\n",
        "             [6,34,1,7,89],\n",
        "             [7,23,43,76,32]]\n",
        "             ]\n",
        "             )"
      ],
      "metadata": {
        "id": "p7pr47mP5pnR"
      },
      "execution_count": 7,
      "outputs": []
    },
    {
      "cell_type": "code",
      "source": [
        "x.ndim\n",
        "print('number of axes: %s'%x.ndim)\n",
        "print('number of dimension: %s'%str(x.shape))"
      ],
      "metadata": {
        "colab": {
          "base_uri": "https://localhost:8080/"
        },
        "id": "M3oPRjsL7pWn",
        "outputId": "7ca59781-f11a-4402-f6a3-affd4249d8b9"
      },
      "execution_count": 8,
      "outputs": [
        {
          "output_type": "stream",
          "name": "stdout",
          "text": [
            "number of axes: 3\n",
            "number of dimension: (3, 3, 5)\n"
          ]
        }
      ]
    },
    {
      "cell_type": "code",
      "source": [
        "#2.2.5 Key attributes\n",
        "from tensorflow.keras.datasets import mnist\n",
        "(train_images,train_labels), (test_images, test_labels) = mnist.load_data()"
      ],
      "metadata": {
        "colab": {
          "base_uri": "https://localhost:8080/"
        },
        "id": "jUCdKDyE8xYd",
        "outputId": "7a3a8f51-7962-47a9-ea96-38110ba082b8"
      },
      "execution_count": 9,
      "outputs": [
        {
          "output_type": "stream",
          "name": "stdout",
          "text": [
            "Downloading data from https://storage.googleapis.com/tensorflow/tf-keras-datasets/mnist.npz\n",
            "11493376/11490434 [==============================] - 0s 0us/step\n",
            "11501568/11490434 [==============================] - 0s 0us/step\n"
          ]
        }
      ]
    },
    {
      "cell_type": "code",
      "source": [
        "#it is 3 axes because it has more than 2 matrices (rank2)\n",
        "train_images.ndim"
      ],
      "metadata": {
        "colab": {
          "base_uri": "https://localhost:8080/"
        },
        "id": "4izqHd2jc0aD",
        "outputId": "73e82be3-6aec-4f90-a0ab-d8d161f31ac4"
      },
      "execution_count": 10,
      "outputs": [
        {
          "output_type": "execute_result",
          "data": {
            "text/plain": [
              "3"
            ]
          },
          "metadata": {},
          "execution_count": 10
        }
      ]
    },
    {
      "cell_type": "code",
      "source": [
        "train_images.shape"
      ],
      "metadata": {
        "colab": {
          "base_uri": "https://localhost:8080/"
        },
        "id": "kZJEpwjbc53s",
        "outputId": "69cd51b7-cbc2-4953-815c-fb073791acd9"
      },
      "execution_count": 11,
      "outputs": [
        {
          "output_type": "execute_result",
          "data": {
            "text/plain": [
              "(60000, 28, 28)"
            ]
          },
          "metadata": {},
          "execution_count": 11
        }
      ]
    },
    {
      "cell_type": "code",
      "source": [
        "train_images.dtype"
      ],
      "metadata": {
        "colab": {
          "base_uri": "https://localhost:8080/"
        },
        "id": "mhMqR0vRdGl1",
        "outputId": "31b5aabc-fbcd-467a-bbfd-00b2696f7a6a"
      },
      "execution_count": 12,
      "outputs": [
        {
          "output_type": "execute_result",
          "data": {
            "text/plain": [
              "dtype('uint8')"
            ]
          },
          "metadata": {},
          "execution_count": 12
        }
      ]
    },
    {
      "cell_type": "code",
      "source": [
        "# Listing 2.8 Dispaly the fourth digit of the tensor rank3\n",
        "import matplotlib.pyplot as plt\n",
        "digit = train_images[4]\n",
        "plt.imshow(digit, cmap=plt.cm.binary)\n",
        "plt.show()"
      ],
      "metadata": {
        "colab": {
          "base_uri": "https://localhost:8080/",
          "height": 265
        },
        "id": "2vmjIvAsAEjK",
        "outputId": "2aeea204-d3c0-42b0-ff91-df2321c3b465"
      },
      "execution_count": 13,
      "outputs": [
        {
          "output_type": "display_data",
          "data": {
            "text/plain": [
              "<Figure size 432x288 with 1 Axes>"
            ],
            "image/png": "[encoded data removed]"
          },
          "metadata": {
            "needs_background": "light"
          }
        }
      ]
    },
    {
      "cell_type": "code",
      "source": [
        "## print all digits of the dataset\n",
        "import time\n",
        "#for item in range(len(train_images)):\n",
        "  #plt.imshow(train_images[item], cmap=plt.cm.binary)\n",
        "  #plt.show()\n",
        "  #time.sleep(2)"
      ],
      "metadata": {
        "id": "srgFXg14AEtT"
      },
      "execution_count": 14,
      "outputs": []
    },
    {
      "cell_type": "code",
      "source": [
        "train_labels[4]"
      ],
      "metadata": {
        "colab": {
          "base_uri": "https://localhost:8080/"
        },
        "id": "0OmEpPRqDc2n",
        "outputId": "47304532-825c-40a3-deaa-884e8c2b40f9"
      },
      "execution_count": 15,
      "outputs": [
        {
          "output_type": "execute_result",
          "data": {
            "text/plain": [
              "9"
            ]
          },
          "metadata": {},
          "execution_count": 15
        }
      ]
    },
    {
      "cell_type": "code",
      "source": [
        "#2.2.6 Manipulation tensors in Numpy\n",
        "my_slice = train_images[10:100]\n",
        "my_slice.shape"
      ],
      "metadata": {
        "colab": {
          "base_uri": "https://localhost:8080/"
        },
        "id": "kTsQ_upBDvHw",
        "outputId": "86374c78-367f-4ba1-a0e8-b167375140a2"
      },
      "execution_count": 16,
      "outputs": [
        {
          "output_type": "execute_result",
          "data": {
            "text/plain": [
              "(90, 28, 28)"
            ]
          },
          "metadata": {},
          "execution_count": 16
        }
      ]
    },
    {
      "cell_type": "code",
      "source": [
        "my_slice = train_images[10:100, :,:]\n",
        "my_slice.shape"
      ],
      "metadata": {
        "colab": {
          "base_uri": "https://localhost:8080/"
        },
        "id": "nfI5l7T9E03I",
        "outputId": "d76ff55c-8d90-4bff-ff7e-8cd5c0f5172b"
      },
      "execution_count": 17,
      "outputs": [
        {
          "output_type": "execute_result",
          "data": {
            "text/plain": [
              "(90, 28, 28)"
            ]
          },
          "metadata": {},
          "execution_count": 17
        }
      ]
    },
    {
      "cell_type": "code",
      "source": [
        "my_slice = train_images[10:100,0:28,0:28]\n",
        "my_slice.shape"
      ],
      "metadata": {
        "colab": {
          "base_uri": "https://localhost:8080/"
        },
        "id": "LxTqWfKWFOpm",
        "outputId": "f061c16e-ae6a-493c-fd6d-3b274821affd"
      },
      "execution_count": 18,
      "outputs": [
        {
          "output_type": "execute_result",
          "data": {
            "text/plain": [
              "(90, 28, 28)"
            ]
          },
          "metadata": {},
          "execution_count": 18
        }
      ]
    },
    {
      "cell_type": "code",
      "source": [
        "#select 14x14 pixes on bottom-rigth\n",
        "my_slice = train_images[:,0:14,0:14]\n",
        "my_slice.shape"
      ],
      "metadata": {
        "colab": {
          "base_uri": "https://localhost:8080/"
        },
        "id": "ywpTGiD9FWvl",
        "outputId": "d5ad88fd-1cdc-4374-cd1c-55ffce00bc08"
      },
      "execution_count": 19,
      "outputs": [
        {
          "output_type": "execute_result",
          "data": {
            "text/plain": [
              "(60000, 14, 14)"
            ]
          },
          "metadata": {},
          "execution_count": 19
        }
      ]
    },
    {
      "cell_type": "code",
      "source": [
        "my_slice = train_images[:,7:-7,7:-7]\n",
        "my_slice.shape"
      ],
      "metadata": {
        "colab": {
          "base_uri": "https://localhost:8080/"
        },
        "id": "7PoF-b5KFs3I",
        "outputId": "6502132d-8c81-40d6-a5cd-d1d878234362"
      },
      "execution_count": 20,
      "outputs": [
        {
          "output_type": "execute_result",
          "data": {
            "text/plain": [
              "(60000, 14, 14)"
            ]
          },
          "metadata": {},
          "execution_count": 20
        }
      ]
    },
    {
      "cell_type": "code",
      "source": [
        "#2.2.7 The notion of data batches\n",
        "batch = train_images[:128]\n",
        "batch.shape"
      ],
      "metadata": {
        "colab": {
          "base_uri": "https://localhost:8080/"
        },
        "id": "C8griuT2F-e5",
        "outputId": "14c40f30-2eea-4137-c8c1-b95238dc8446"
      },
      "execution_count": 21,
      "outputs": [
        {
          "output_type": "execute_result",
          "data": {
            "text/plain": [
              "(128, 28, 28)"
            ]
          },
          "metadata": {},
          "execution_count": 21
        }
      ]
    },
    {
      "cell_type": "code",
      "source": [
        "batch = train_images[128:256]\n",
        "batch.shape"
      ],
      "metadata": {
        "colab": {
          "base_uri": "https://localhost:8080/"
        },
        "id": "uYGeno5HI6m7",
        "outputId": "6abbdf53-d9bb-41bd-cb29-ed82782e3fe1"
      },
      "execution_count": 22,
      "outputs": [
        {
          "output_type": "execute_result",
          "data": {
            "text/plain": [
              "(128, 28, 28)"
            ]
          },
          "metadata": {},
          "execution_count": 22
        }
      ]
    },
    {
      "cell_type": "code",
      "source": [
        "n =3\n",
        "batch = train_images[128 * n: 128 * (n+1)]\n",
        "batch.shape"
      ],
      "metadata": {
        "colab": {
          "base_uri": "https://localhost:8080/"
        },
        "id": "qXXpPgmCI_hR",
        "outputId": "75a677bb-b566-4935-8a31-60797066d955"
      },
      "execution_count": 23,
      "outputs": [
        {
          "output_type": "execute_result",
          "data": {
            "text/plain": [
              "(128, 28, 28)"
            ]
          },
          "metadata": {},
          "execution_count": 23
        }
      ]
    },
    {
      "cell_type": "code",
      "source": [
        "#2.3 Tensor operators\n",
        "#keras.layers.Dense(512)\n",
        "#output = relu(dot(input, w)+ b)\n",
        "naive_test1 = np.array([[12,13,23],[1,4,3],[2,5,4],[3,6,5]])\n",
        "naive_test2 = np.array([[12,13,23],[1,2,3],[2,3,4],[3,4,6]])"
      ],
      "metadata": {
        "id": "pie6HJjWI2c1"
      },
      "execution_count": 29,
      "outputs": []
    },
    {
      "cell_type": "code",
      "source": [
        "#2.3.1 element-wise operations\n",
        "def naive_relu(x):\n",
        "  assert len(x.shape) == 2\n",
        "  x = x.copy() #avoid overwriting the input tensor\n",
        "  for i in range(x.shape[0]):\n",
        "    for j in range(x.shape[1]):\n",
        "      x[i,j] = max(x[i,j],0)\n",
        "  return x"
      ],
      "metadata": {
        "id": "NPL2u0yx2yYt"
      },
      "execution_count": 30,
      "outputs": []
    },
    {
      "cell_type": "code",
      "source": [
        "#naive_test.shape\n",
        "naive_relu(naive_test1)\n"
      ],
      "metadata": {
        "colab": {
          "base_uri": "https://localhost:8080/"
        },
        "id": "L2TiTCuT4A5U",
        "outputId": "6181afad-45b7-4654-8edc-e399befa8855"
      },
      "execution_count": 31,
      "outputs": [
        {
          "output_type": "execute_result",
          "data": {
            "text/plain": [
              "array([[12, 13, 23],\n",
              "       [ 1,  4,  3],\n",
              "       [ 2,  5,  4],\n",
              "       [ 3,  6,  5]])"
            ]
          },
          "metadata": {},
          "execution_count": 31
        }
      ]
    },
    {
      "cell_type": "code",
      "source": [
        "#2.3.1 element-wise operations for addition\n",
        "def naive_add(x, y): # x and y are rank-2 numpy tensors\n",
        "  assert len(x.shape) == 2\n",
        "  assert x.shape == y.shape\n",
        "  x = x.copy() #avoid overwriting the input tensor\n",
        "  for i in range(x.shape[0]):\n",
        "    for j in range(x.shape[1]):\n",
        "      x[i,j] += y[i,j]\n",
        "  return x"
      ],
      "metadata": {
        "id": "WwR6Dxnz4QEv"
      },
      "execution_count": 35,
      "outputs": []
    },
    {
      "cell_type": "code",
      "source": [
        "naive_add(naive_test1,naive_test2)"
      ],
      "metadata": {
        "colab": {
          "base_uri": "https://localhost:8080/"
        },
        "id": "_arThuku8PPs",
        "outputId": "91e0488e-4057-4dba-a9d7-c6e26405593c"
      },
      "execution_count": 36,
      "outputs": [
        {
          "output_type": "execute_result",
          "data": {
            "text/plain": [
              "array([[24, 26, 46],\n",
              "       [ 2,  6,  6],\n",
              "       [ 4,  8,  8],\n",
              "       [ 6, 10, 11]])"
            ]
          },
          "metadata": {},
          "execution_count": 36
        }
      ]
    },
    {
      "cell_type": "code",
      "source": [
        "#check the diference of time between numpy and naive wise element \n",
        "import numpy as np\n",
        "import time\n",
        "x = np.random.random((20,100))\n",
        "y = np.random.random((20,100))\n",
        "\n",
        "t0 = time.time()\n",
        "for _ in range(1000):\n",
        "  z = x + y\n",
        "  z = np.maximum(z,0.)\n",
        "print(\"Took: {0:.2f} s\".format(time.time() - t0))"
      ],
      "metadata": {
        "id": "PLpkzdE18Wub",
        "colab": {
          "base_uri": "https://localhost:8080/"
        },
        "outputId": "85863f14-27ba-4d57-c0ef-8a4b4a12ec29"
      },
      "execution_count": 34,
      "outputs": [
        {
          "output_type": "stream",
          "name": "stdout",
          "text": [
            "Took: 0.01 s\n"
          ]
        }
      ]
    },
    {
      "cell_type": "code",
      "source": [
        "import numpy as np\n",
        "import time\n",
        "x = np.random.random((20,100))\n",
        "y = np.random.random((20,100))\n",
        "\n",
        "t0 = time.time()\n",
        "for _ in range(1000):\n",
        "  z = naive_add(x,y)\n",
        "  z = naive_relu(z)\n",
        "print(\"Took: {0:.2f} s\".format(time.time() - t0))"
      ],
      "metadata": {
        "colab": {
          "base_uri": "https://localhost:8080/"
        },
        "id": "VmDjRucRRspY",
        "outputId": "799f1814-8e7c-4f8a-e32e-ea6d7d3e99d4"
      },
      "execution_count": 37,
      "outputs": [
        {
          "output_type": "stream",
          "name": "stdout",
          "text": [
            "Took: 2.60 s\n"
          ]
        }
      ]
    },
    {
      "cell_type": "code",
      "source": [
        "#2.3.2 Broadcasting\n",
        "import numpy as np\n",
        "x = np.random.random((32,10))\n",
        "print(\"x = {}\".format(x.shape))\n",
        "y = np.random.random((10,))\n",
        "print(\"y = {}\".format(y.shape))\n",
        "y = np.expand_dims(y, axis=0)\n",
        "print(\"after expand_dim y ={}\".format(y.shape))\n",
        "y"
      ],
      "metadata": {
        "colab": {
          "base_uri": "https://localhost:8080/"
        },
        "id": "ssJRLNpQSH7t",
        "outputId": "dc8f88f2-0ade-491a-87a7-0290db7c346d"
      },
      "execution_count": 50,
      "outputs": [
        {
          "output_type": "stream",
          "name": "stdout",
          "text": [
            "x = (32, 10)\n",
            "y = (10,)\n",
            "after expand_dim y =(1, 10)\n"
          ]
        },
        {
          "output_type": "execute_result",
          "data": {
            "text/plain": [
              "array([[0.84835861, 0.80496904, 0.09286867, 0.97407637, 0.34613634,\n",
              "        0.43618804, 0.32313239, 0.72726316, 0.69478987, 0.27751995]])"
            ]
          },
          "metadata": {},
          "execution_count": 50
        }
      ]
    },
    {
      "cell_type": "code",
      "source": [
        "y = np.concatenate([y] * 32, axis=0)\n",
        "y.shape"
      ],
      "metadata": {
        "colab": {
          "base_uri": "https://localhost:8080/"
        },
        "id": "nmYyvUOjVOhp",
        "outputId": "9381dd85-1b28-4e8e-8ce7-958d7691e1ab"
      },
      "execution_count": 48,
      "outputs": [
        {
          "output_type": "execute_result",
          "data": {
            "text/plain": [
              "(32, 10)"
            ]
          },
          "metadata": {},
          "execution_count": 48
        }
      ]
    },
    {
      "cell_type": "code",
      "source": [
        "# below the same concept but using naive implementation\n",
        "def naive_add_matrix_and_vector(x,y):\n",
        "  assert len(x.shape) == 2\n",
        "  assert len(y.shape) == 1\n",
        "  assert x.shape[1] == y.shape[0]\n",
        "  x = x.copy()\n",
        "  for i in range(x.shape[0]):\n",
        "    for j in range(x.shape[1]):\n",
        "      x[i,j] += y[j]\n",
        "  return x.shape"
      ],
      "metadata": {
        "id": "kLF-R1ahUZL0"
      },
      "execution_count": 55,
      "outputs": []
    },
    {
      "cell_type": "code",
      "source": [
        "x = np.random.random((32,10))\n",
        "y = np.random.random((10,))\n",
        "naive_add_matrix_and_vector(x,y)"
      ],
      "metadata": {
        "colab": {
          "base_uri": "https://localhost:8080/"
        },
        "id": "1DO1Fb3oX8sX",
        "outputId": "0ddf3950-7529-4e17-a62a-c9dd4e30f5df"
      },
      "execution_count": 57,
      "outputs": [
        {
          "output_type": "execute_result",
          "data": {
            "text/plain": [
              "(32, 10)"
            ]
          },
          "metadata": {},
          "execution_count": 57
        }
      ]
    },
    {
      "cell_type": "code",
      "source": [
        "import numpy as np\n",
        "x = np.random.random((64,3,32,10))\n",
        "y = np.random.random((32,10))\n",
        "z = np.maximum(x,y)\n",
        "z.shape"
      ],
      "metadata": {
        "colab": {
          "base_uri": "https://localhost:8080/"
        },
        "id": "bX89gXPGYOhR",
        "outputId": "12815efc-45e3-4da7-ab52-433f4f88e6dd"
      },
      "execution_count": 1,
      "outputs": [
        {
          "output_type": "execute_result",
          "data": {
            "text/plain": [
              "(64, 3, 32, 10)"
            ]
          },
          "metadata": {},
          "execution_count": 1
        }
      ]
    },
    {
      "cell_type": "code",
      "source": [
        "#2.3.3 Tensor product or dot product # product is the result of the multiplication\n",
        "x = np.random.random((32,))\n",
        "y = np.random.random((32,))\n",
        "z = np.dot(x,y) # z = product\n",
        "z"
      ],
      "metadata": {
        "colab": {
          "base_uri": "https://localhost:8080/"
        },
        "id": "xr9MKN3ZZJwj",
        "outputId": "d56f6872-1866-43c0-e723-732334e06476"
      },
      "execution_count": 3,
      "outputs": [
        {
          "output_type": "execute_result",
          "data": {
            "text/plain": [
              "7.04656303319602"
            ]
          },
          "metadata": {},
          "execution_count": 3
        }
      ]
    },
    {
      "cell_type": "code",
      "source": [
        "#what does the dot operation do?\n",
        "def naive_vector_dot(x,y):\n",
        "  assert len(x.shape) == 1\n",
        "  assert len(y.shape) == 1\n",
        "  z = 0.\n",
        "  for i in range(x.shape[0]):\n",
        "    z += x[i] * y[i]\n",
        "    #print(z)\n",
        "  return z\n",
        "\n",
        "x = np.random.random((32,))\n",
        "y = np.random.random((32,))\n",
        "#print(x,y)\n",
        "print(naive_vector_dot(x,y))"
      ],
      "metadata": {
        "colab": {
          "base_uri": "https://localhost:8080/"
        },
        "id": "2H-J8epHhqZG",
        "outputId": "468980a9-0da6-4c17-f781-82109c2b3c26"
      },
      "execution_count": 12,
      "outputs": [
        {
          "output_type": "stream",
          "name": "stdout",
          "text": [
            "10.438769063856745\n"
          ]
        }
      ]
    },
    {
      "cell_type": "code",
      "source": [
        "#product between a matrix and vector\n",
        "def naive_matrix_vector_dot(x,y):\n",
        "  assert len(x.shape) == 2\n",
        "  assert len(y.shape) == 1\n",
        "  assert x.shape[1] == y.shape[0]\n",
        "  print('x shape ---> {}'.format(x.shape))\n",
        "  print('y shape ---> {}'.format(y.shape))\n",
        "  z = np.zeros(x.shape[0])\n",
        "  #print(z)\n",
        "  for i in range(x.shape[0]):\n",
        "    print('proccesing the row --> {}'.format(i))\n",
        "    for j in range(x.shape[1]):\n",
        "      z[i] += x[i, j] * y[j]\n",
        "      print('row_x {} is multiplied on column_y  {} --->{} * {} product = {}'.format(x[i,j],y[j],x[i, j],y[j],z[i]))\n",
        "  return z\n",
        "\n",
        "x = np.random.random((2,32))\n",
        "y = np.random.random((32,))\n",
        "print(naive_matrix_vector_dot(x,y))"
      ],
      "metadata": {
        "colab": {
          "base_uri": "https://localhost:8080/"
        },
        "id": "BuvBsUhXlAcl",
        "outputId": "ba42e232-6c9e-4763-d90f-9d59d1de0a06"
      },
      "execution_count": 28,
      "outputs": [
        {
          "output_type": "stream",
          "name": "stdout",
          "text": [
            "x shape ---> (2, 32)\n",
            "y shape ---> (32,)\n",
            "proccesing the row --> 0\n",
            "row_x 0.360620062933949 is multiplied on column_y  0.3814551475682191 --->0.360620062933949 * 0.3814551475682191 product = 0.13756037932252996\n",
            "row_x 0.42829886032569253 is multiplied on column_y  0.678275215038906 --->0.42829886032569253 * 0.678275215038906 product = 0.4280648809108574\n",
            "row_x 0.14021963062713882 is multiplied on column_y  0.3187748224640491 --->0.14021963062713882 * 0.3187748224640491 product = 0.47276336876999814\n",
            "row_x 0.046282402277984636 is multiplied on column_y  0.47667628368776227 --->0.046282402277984636 * 0.47667628368776227 product = 0.49482509228800986\n",
            "row_x 0.10756003584672347 is multiplied on column_y  0.048073512481254466 --->0.10756003584672347 * 0.048073512481254466 product = 0.4999958810137715\n",
            "row_x 0.5930164817062595 is multiplied on column_y  0.35027914434639074 --->0.5930164817062595 * 0.35027914434639074 product = 0.7077171868091472\n",
            "row_x 0.18196306075333069 is multiplied on column_y  0.49605855355589146 --->0.18196306075333069 * 0.49605855355589146 product = 0.7979815195270472\n",
            "row_x 0.2814975690050828 is multiplied on column_y  0.645921783405553 --->0.2814975690050828 * 0.645921783405553 product = 0.979806931323138\n",
            "row_x 0.9867742264304122 is multiplied on column_y  0.8477484189798785 --->0.9867742264304122 * 0.8477484189798785 product = 1.8163432216696127\n",
            "row_x 0.04161217385629279 is multiplied on column_y  0.7101989905394684 --->0.04161217385629279 * 0.7101989905394684 product = 1.8458961455365046\n",
            "row_x 0.1820209790873758 is multiplied on column_y  0.8959390036879062 --->0.1820209790873758 * 0.8959390036879062 product = 2.0089758401903453\n",
            "row_x 0.570457706806794 is multiplied on column_y  0.7102294879418678 --->0.570457706806794 * 0.7102294879418678 product = 2.4141317251882266\n",
            "row_x 0.024561615799814307 is multiplied on column_y  0.6209370261611306 --->0.024561615799814307 * 0.6209370261611306 product = 2.4293829418606756\n",
            "row_x 0.1488879512927903 is multiplied on column_y  0.11739230788905008 --->0.1488879512927903 * 0.11739230788905008 product = 2.446861242079809\n",
            "row_x 0.7373861215821642 is multiplied on column_y  0.5501976106393355 --->0.7373861215821642 * 0.5501976106393355 product = 2.852569324292922\n",
            "row_x 0.5017937592075972 is multiplied on column_y  0.2163683941365574 --->0.5017937592075972 * 0.2163683941365574 product = 2.961141634160416\n",
            "row_x 0.8204258337461617 is multiplied on column_y  0.9158954270979217 --->0.8204258337461617 * 0.9158954270979217 product = 3.7125659035615257\n",
            "row_x 0.27188242482393077 is multiplied on column_y  0.4796150049181671 --->0.27188242482393077 * 0.4796150049181671 product = 3.8429647940806184\n",
            "row_x 0.5184260447599144 is multiplied on column_y  0.7910828728746442 --->0.5184260447599144 * 0.7910828728746442 product = 4.25308275894233\n",
            "row_x 0.32033035171304636 is multiplied on column_y  0.18981233780831008 --->0.32033035171304636 * 0.18981233780831008 product = 4.313885411871942\n",
            "row_x 0.20480833320061842 is multiplied on column_y  0.6090799732076189 --->0.20480833320061842 * 0.6090799732076189 product = 4.438630065970472\n",
            "row_x 0.1255507585030856 is multiplied on column_y  0.015840953269920854 --->0.1255507585030856 * 0.015840953269920854 product = 4.440618909668922\n",
            "row_x 0.10750845359608763 is multiplied on column_y  0.31462732473690447 --->0.10750845359608763 * 0.31462732473690447 product = 4.474444006810461\n",
            "row_x 0.6179093698117362 is multiplied on column_y  0.10420541789119753 --->0.6179093698117362 * 0.10420541789119753 product = 4.538833510910579\n",
            "row_x 0.7645498398430078 is multiplied on column_y  0.3125864742002542 --->0.7645498398430078 * 0.3125864742002542 product = 4.777821449697474\n",
            "row_x 0.9992801246938594 is multiplied on column_y  0.8896301127880045 --->0.9992801246938594 * 0.8896301127880045 product = 5.6668111397356835\n",
            "row_x 0.5521592809733248 is multiplied on column_y  0.493759244159203 --->0.5521592809733248 * 0.493759244159203 product = 5.9394448889645615\n",
            "row_x 0.16810034921494688 is multiplied on column_y  0.6772520580027075 --->0.16810034921494688 * 0.6772520580027075 product = 6.053291196421358\n",
            "row_x 0.633974584647618 is multiplied on column_y  0.3263985997366584 --->0.633974584647618 * 0.3263985997366584 product = 6.26021961311897\n",
            "row_x 0.2845665374183082 is multiplied on column_y  0.6732288423693671 --->0.2845665374183082 * 0.6732288423693671 product = 6.451798013682157\n",
            "row_x 0.6905818812132853 is multiplied on column_y  0.03525727781608112 --->0.6905818812132853 * 0.03525727781608112 product = 6.4761460509228455\n",
            "row_x 0.9495785242913589 is multiplied on column_y  0.4885718927108613 --->0.9495785242913589 * 0.4885718927108613 product = 6.9400834278134615\n",
            "proccesing the row --> 1\n",
            "row_x 0.809924767765862 is multiplied on column_y  0.3814551475682191 --->0.809924767765862 * 0.3814551475682191 product = 0.30894997180728245\n",
            "row_x 0.6707806725573616 is multiplied on column_y  0.678275215038906 --->0.6707806725573616 * 0.678275215038906 product = 0.7639238767300689\n",
            "row_x 0.8807589275882084 is multiplied on column_y  0.3187748224640491 --->0.8807589275882084 * 0.3187748224640491 product = 1.0446876475056264\n",
            "row_x 0.764344715739695 is multiplied on column_y  0.47667628368776227 --->0.764344715739695 * 0.47667628368776227 product = 1.4090326460608034\n",
            "row_x 0.7530600323937928 is multiplied on column_y  0.048073512481254466 --->0.7530600323937928 * 0.048073512481254466 product = 1.4452348869272202\n",
            "row_x 0.13918077195529732 is multiplied on column_y  0.35027914434639074 --->0.13918077195529732 * 0.35027914434639074 product = 1.493987008637192\n",
            "row_x 0.788046466519822 is multiplied on column_y  0.49605855355589146 --->0.788046466519822 * 0.49605855355589146 product = 1.8849041989538462\n",
            "row_x 0.7149990018028216 is multiplied on column_y  0.645921783405553 --->0.7149990018028216 * 0.645921783405553 product = 2.346737629331515\n",
            "row_x 0.5641705341985135 is multiplied on column_y  0.8477484189798785 --->0.5641705341985135 * 0.8477484189798785 product = 2.8250123077333384\n",
            "row_x 0.4322819169503527 is multiplied on column_y  0.7101989905394684 --->0.4322819169503527 * 0.7101989905394684 product = 3.1320184887799454\n",
            "row_x 0.13360249162927063 is multiplied on column_y  0.8959390036879062 --->0.13360249162927063 * 0.8959390036879062 product = 3.251718172020496\n",
            "row_x 0.5594424573923055 is multiplied on column_y  0.7102294879418678 --->0.5594424573923055 * 0.7102294879418678 product = 3.649050702067173\n",
            "row_x 0.602899983936497 is multiplied on column_y  0.6209370261611306 --->0.602899983936497 * 0.6209370261611306 product = 4.023413625165295\n",
            "row_x 0.8692139537530815 is multiplied on column_y  0.11739230788905008 --->0.8692139537530815 * 0.11739230788905008 product = 4.125452657245735\n",
            "row_x 0.7006653089790683 is multiplied on column_y  0.5501976106393355 --->0.7006653089790683 * 0.5501976106393355 product = 4.510957036103891\n",
            "row_x 0.8165304403332589 is multiplied on column_y  0.2163683941365574 --->0.8165304403332589 * 0.2163683941365574 product = 4.687628416242414\n",
            "row_x 0.14495889947992613 is multiplied on column_y  0.9158954270979217 --->0.14495889947992613 * 0.9158954270979217 product = 4.820395609393225\n",
            "row_x 0.6551516031376284 is multiplied on column_y  0.4796150049181671 --->0.6551516031376284 * 0.4796150049181671 product = 5.134616148754224\n",
            "row_x 0.7464841713863325 is multiplied on column_y  0.7910828728746442 --->0.7464841713863325 * 0.7910828728746442 product = 5.725146991609972\n",
            "row_x 0.03640605875154557 is multiplied on column_y  0.18981233780831008 --->0.03640605875154557 * 0.18981233780831008 product = 5.73205731073199\n",
            "row_x 0.5022594359186937 is multiplied on column_y  0.6090799732076189 --->0.5022594359186937 * 0.6090799732076189 product = 6.037973474504621\n",
            "row_x 0.43244522641013194 is multiplied on column_y  0.015840953269920854 --->0.43244522641013194 * 0.015840953269920854 product = 6.044823819127985\n",
            "row_x 0.47504919620241304 is multiplied on column_y  0.31462732473690447 --->0.47504919620241304 * 0.31462732473690447 product = 6.194287276847567\n",
            "row_x 0.3351712088027069 is multiplied on column_y  0.10420541789119753 --->0.3351712088027069 * 0.10420541789119753 product = 6.229213932725951\n",
            "row_x 0.22322762031300847 is multiplied on column_y  0.3125864742002542 --->0.22322762031300847 * 0.3125864742002542 product = 6.298991867503708\n",
            "row_x 0.10184535438264175 is multiplied on column_y  0.8896301127880045 --->0.10184535438264175 * 0.8896301127880045 product = 6.389596561610072\n",
            "row_x 0.379699796124492 is multiplied on column_y  0.493759244159203 --->0.379699796124492 * 0.493759244159203 product = 6.577076845951905\n",
            "row_x 0.4214380715293111 is multiplied on column_y  0.6772520580027075 --->0.4214380715293111 * 0.6772520580027075 product = 6.862496647215823\n",
            "row_x 0.5127675395694505 is multiplied on column_y  0.3263985997366584 --->0.5127675395694505 * 0.3263985997366584 product = 7.029863254121704\n",
            "row_x 0.8988375646103052 is multiplied on column_y  0.6732288423693671 --->0.8988375646103052 * 0.6732288423693671 product = 7.634986627222401\n",
            "row_x 0.10606960702548462 is multiplied on column_y  0.03525727781608112 --->0.10606960702548462 * 0.03525727781608112 product = 7.638726352825141\n",
            "row_x 0.5461090713711289 is multiplied on column_y  0.4885718927108613 --->0.5461090713711289 * 0.4885718927108613 product = 7.905539895451504\n",
            "[6.94008343 7.9055399 ]\n"
          ]
        }
      ]
    },
    {
      "cell_type": "code",
      "source": [
        "#using two functions\n",
        "def naive_matrix_vector_dot(x,y):\n",
        "  assert len(x.shape) == 2\n",
        "  assert len(y.shape) == 2\n",
        "  assert x.shape[1] == y.shape[0]\n",
        "  print('x shape ---> {}'.format(x.shape))\n",
        "  print('y shape ---> {}'.format(y.shape))\n",
        "  z = np.zeros((x.shape[0], y.shape[1]))\n",
        "  print('z ---> {}'.format(z))\n",
        "  for i in range(x.shape[0]):\n",
        "    for j in range(y.shape[1]):\n",
        "      row_x = x[i,:] # x width \n",
        "      column_y = y[:,j] # y height\n",
        "      z[i,j] = naive_vector_dot(row_x, column_y)\n",
        "      print('row_x is multiplied on column_y --->{} * {} product = {}'.format(row_x,column_y,z[i,j]))\n",
        "  return z\n",
        "\n",
        "x = np.random.random((2,32))\n",
        "y = np.random.random((32,2))\n",
        "print(naive_matrix_vector_dot(x,y))"
      ],
      "metadata": {
        "colab": {
          "base_uri": "https://localhost:8080/"
        },
        "id": "fv41-cwmkTEW",
        "outputId": "23c822e9-e3ea-4674-e3d3-73c85e25dd40"
      },
      "execution_count": 24,
      "outputs": [
        {
          "output_type": "stream",
          "name": "stdout",
          "text": [
            "x shape ---> (2, 32)\n",
            "y shape ---> (32, 2)\n",
            "z ---> [[0. 0.]\n",
            " [0. 0.]]\n",
            "row_x is multiplied on column_y --->[0.9238118  0.59661861 0.23440863 0.51048617 0.72218319 0.56589949\n",
            " 0.95739792 0.79152059 0.64925319 0.36531626 0.2410864  0.12950839\n",
            " 0.67699782 0.55040815 0.04078147 0.59428832 0.77336364 0.5995463\n",
            " 0.8031321  0.1483991  0.04549544 0.0621982  0.67567965 0.23762343\n",
            " 0.81883388 0.69181311 0.57110252 0.54315851 0.39905445 0.50417004\n",
            " 0.4184554  0.78128453] * [0.73796608 0.04600632 0.05339765 0.40767836 0.0020733  0.48728758\n",
            " 0.64323224 0.60967262 0.52265622 0.6352449  0.40874989 0.80178571\n",
            " 0.33845791 0.13329663 0.69032671 0.30241418 0.08942483 0.62621661\n",
            " 0.96317372 0.65784209 0.94941333 0.43258303 0.51027376 0.03097106\n",
            " 0.39068578 0.18912452 0.75392657 0.59901846 0.93982222 0.62874501\n",
            " 0.22922035 0.42847557] product = 7.657046825411736\n",
            "row_x is multiplied on column_y --->[0.9238118  0.59661861 0.23440863 0.51048617 0.72218319 0.56589949\n",
            " 0.95739792 0.79152059 0.64925319 0.36531626 0.2410864  0.12950839\n",
            " 0.67699782 0.55040815 0.04078147 0.59428832 0.77336364 0.5995463\n",
            " 0.8031321  0.1483991  0.04549544 0.0621982  0.67567965 0.23762343\n",
            " 0.81883388 0.69181311 0.57110252 0.54315851 0.39905445 0.50417004\n",
            " 0.4184554  0.78128453] * [0.66495006 0.4847961  0.51241676 0.77552866 0.10490274 0.50509112\n",
            " 0.17922    0.09218902 0.6855438  0.25096454 0.24485932 0.56462432\n",
            " 0.45565859 0.07213608 0.59361433 0.4000856  0.58999856 0.6509529\n",
            " 0.82512096 0.18795081 0.28822111 0.43892288 0.86105772 0.03010614\n",
            " 0.53410325 0.10550584 0.69477301 0.6405474  0.9675968  0.70253029\n",
            " 0.12993414 0.24341764] product = 7.711175343001345\n",
            "row_x is multiplied on column_y --->[0.19178684 0.16922008 0.44460832 0.74747757 0.97675982 0.13667105\n",
            " 0.28437977 0.90915901 0.84936057 0.59935451 0.11360618 0.45931617\n",
            " 0.67371057 0.20570587 0.7489732  0.33620481 0.68913493 0.20919603\n",
            " 0.70837275 0.26629731 0.08191635 0.55635112 0.04430093 0.62631493\n",
            " 0.17577406 0.74749552 0.23131809 0.99175239 0.09811929 0.21686936\n",
            " 0.24586243 0.30894105] * [0.73796608 0.04600632 0.05339765 0.40767836 0.0020733  0.48728758\n",
            " 0.64323224 0.60967262 0.52265622 0.6352449  0.40874989 0.80178571\n",
            " 0.33845791 0.13329663 0.69032671 0.30241418 0.08942483 0.62621661\n",
            " 0.96317372 0.65784209 0.94941333 0.43258303 0.51027376 0.03097106\n",
            " 0.39068578 0.18912452 0.75392657 0.59901846 0.93982222 0.62874501\n",
            " 0.22922035 0.42847557] product = 6.20350242635994\n",
            "row_x is multiplied on column_y --->[0.19178684 0.16922008 0.44460832 0.74747757 0.97675982 0.13667105\n",
            " 0.28437977 0.90915901 0.84936057 0.59935451 0.11360618 0.45931617\n",
            " 0.67371057 0.20570587 0.7489732  0.33620481 0.68913493 0.20919603\n",
            " 0.70837275 0.26629731 0.08191635 0.55635112 0.04430093 0.62631493\n",
            " 0.17577406 0.74749552 0.23131809 0.99175239 0.09811929 0.21686936\n",
            " 0.24586243 0.30894105] * [0.66495006 0.4847961  0.51241676 0.77552866 0.10490274 0.50509112\n",
            " 0.17922    0.09218902 0.6855438  0.25096454 0.24485932 0.56462432\n",
            " 0.45565859 0.07213608 0.59361433 0.4000856  0.58999856 0.6509529\n",
            " 0.82512096 0.18795081 0.28822111 0.43892288 0.86105772 0.03010614\n",
            " 0.53410325 0.10550584 0.69477301 0.6405474  0.9675968  0.70253029\n",
            " 0.12993414 0.24341764] product = 6.069425711122678\n",
            "[[7.65704683 7.71117534]\n",
            " [6.20350243 6.06942571]]\n"
          ]
        }
      ]
    },
    {
      "cell_type": "code",
      "source": [
        "#product between a matrix and vector\n",
        "def naive_matrix_vector_dot(x,y):\n",
        "  assert len(x.shape) == 2\n",
        "  assert len(y.shape) == 1\n",
        "  assert x.shape[1] == y.shape[0]\n",
        "  print('x shape ---> {}'.format(x.shape))\n",
        "  print('y shape ---> {}'.format(y.shape))\n",
        "  z = np.zeros(x.shape[0])\n",
        "  #print(z)\n",
        "  for i in range(x.shape[0]):\n",
        "    print('proccesing the row --> {}'.format(i))\n",
        "    for j in range(x.shape[1]):\n",
        "      z[i] += x[i, j] * y[j]\n",
        "      print('row_x {} is multiplied on column_y  {} --->{} * {} product = {}'.format(x[i,j],y[j],x[i, j],y[j],z[i]))\n",
        "  return z\n",
        "\n",
        "x = np.random.random((2,32))\n",
        "y = np.random.random((32,))\n",
        "print(naive_matrix_vector_dot(x,y))"
      ],
      "metadata": {
        "colab": {
          "base_uri": "https://localhost:8080/"
        },
        "outputId": "ba42e232-6c9e-4763-d90f-9d59d1de0a06",
        "id": "CU_pZ7_6wiHa"
      },
      "execution_count": null,
      "outputs": [
        {
          "output_type": "stream",
          "name": "stdout",
          "text": [
            "x shape ---> (2, 32)\n",
            "y shape ---> (32,)\n",
            "proccesing the row --> 0\n",
            "row_x 0.360620062933949 is multiplied on column_y  0.3814551475682191 --->0.360620062933949 * 0.3814551475682191 product = 0.13756037932252996\n",
            "row_x 0.42829886032569253 is multiplied on column_y  0.678275215038906 --->0.42829886032569253 * 0.678275215038906 product = 0.4280648809108574\n",
            "row_x 0.14021963062713882 is multiplied on column_y  0.3187748224640491 --->0.14021963062713882 * 0.3187748224640491 product = 0.47276336876999814\n",
            "row_x 0.046282402277984636 is multiplied on column_y  0.47667628368776227 --->0.046282402277984636 * 0.47667628368776227 product = 0.49482509228800986\n",
            "row_x 0.10756003584672347 is multiplied on column_y  0.048073512481254466 --->0.10756003584672347 * 0.048073512481254466 product = 0.4999958810137715\n",
            "row_x 0.5930164817062595 is multiplied on column_y  0.35027914434639074 --->0.5930164817062595 * 0.35027914434639074 product = 0.7077171868091472\n",
            "row_x 0.18196306075333069 is multiplied on column_y  0.49605855355589146 --->0.18196306075333069 * 0.49605855355589146 product = 0.7979815195270472\n",
            "row_x 0.2814975690050828 is multiplied on column_y  0.645921783405553 --->0.2814975690050828 * 0.645921783405553 product = 0.979806931323138\n",
            "row_x 0.9867742264304122 is multiplied on column_y  0.8477484189798785 --->0.9867742264304122 * 0.8477484189798785 product = 1.8163432216696127\n",
            "row_x 0.04161217385629279 is multiplied on column_y  0.7101989905394684 --->0.04161217385629279 * 0.7101989905394684 product = 1.8458961455365046\n",
            "row_x 0.1820209790873758 is multiplied on column_y  0.8959390036879062 --->0.1820209790873758 * 0.8959390036879062 product = 2.0089758401903453\n",
            "row_x 0.570457706806794 is multiplied on column_y  0.7102294879418678 --->0.570457706806794 * 0.7102294879418678 product = 2.4141317251882266\n",
            "row_x 0.024561615799814307 is multiplied on column_y  0.6209370261611306 --->0.024561615799814307 * 0.6209370261611306 product = 2.4293829418606756\n",
            "row_x 0.1488879512927903 is multiplied on column_y  0.11739230788905008 --->0.1488879512927903 * 0.11739230788905008 product = 2.446861242079809\n",
            "row_x 0.7373861215821642 is multiplied on column_y  0.5501976106393355 --->0.7373861215821642 * 0.5501976106393355 product = 2.852569324292922\n",
            "row_x 0.5017937592075972 is multiplied on column_y  0.2163683941365574 --->0.5017937592075972 * 0.2163683941365574 product = 2.961141634160416\n",
            "row_x 0.8204258337461617 is multiplied on column_y  0.9158954270979217 --->0.8204258337461617 * 0.9158954270979217 product = 3.7125659035615257\n",
            "row_x 0.27188242482393077 is multiplied on column_y  0.4796150049181671 --->0.27188242482393077 * 0.4796150049181671 product = 3.8429647940806184\n",
            "row_x 0.5184260447599144 is multiplied on column_y  0.7910828728746442 --->0.5184260447599144 * 0.7910828728746442 product = 4.25308275894233\n",
            "row_x 0.32033035171304636 is multiplied on column_y  0.18981233780831008 --->0.32033035171304636 * 0.18981233780831008 product = 4.313885411871942\n",
            "row_x 0.20480833320061842 is multiplied on column_y  0.6090799732076189 --->0.20480833320061842 * 0.6090799732076189 product = 4.438630065970472\n",
            "row_x 0.1255507585030856 is multiplied on column_y  0.015840953269920854 --->0.1255507585030856 * 0.015840953269920854 product = 4.440618909668922\n",
            "row_x 0.10750845359608763 is multiplied on column_y  0.31462732473690447 --->0.10750845359608763 * 0.31462732473690447 product = 4.474444006810461\n",
            "row_x 0.6179093698117362 is multiplied on column_y  0.10420541789119753 --->0.6179093698117362 * 0.10420541789119753 product = 4.538833510910579\n",
            "row_x 0.7645498398430078 is multiplied on column_y  0.3125864742002542 --->0.7645498398430078 * 0.3125864742002542 product = 4.777821449697474\n",
            "row_x 0.9992801246938594 is multiplied on column_y  0.8896301127880045 --->0.9992801246938594 * 0.8896301127880045 product = 5.6668111397356835\n",
            "row_x 0.5521592809733248 is multiplied on column_y  0.493759244159203 --->0.5521592809733248 * 0.493759244159203 product = 5.9394448889645615\n",
            "row_x 0.16810034921494688 is multiplied on column_y  0.6772520580027075 --->0.16810034921494688 * 0.6772520580027075 product = 6.053291196421358\n",
            "row_x 0.633974584647618 is multiplied on column_y  0.3263985997366584 --->0.633974584647618 * 0.3263985997366584 product = 6.26021961311897\n",
            "row_x 0.2845665374183082 is multiplied on column_y  0.6732288423693671 --->0.2845665374183082 * 0.6732288423693671 product = 6.451798013682157\n",
            "row_x 0.6905818812132853 is multiplied on column_y  0.03525727781608112 --->0.6905818812132853 * 0.03525727781608112 product = 6.4761460509228455\n",
            "row_x 0.9495785242913589 is multiplied on column_y  0.4885718927108613 --->0.9495785242913589 * 0.4885718927108613 product = 6.9400834278134615\n",
            "proccesing the row --> 1\n",
            "row_x 0.809924767765862 is multiplied on column_y  0.3814551475682191 --->0.809924767765862 * 0.3814551475682191 product = 0.30894997180728245\n",
            "row_x 0.6707806725573616 is multiplied on column_y  0.678275215038906 --->0.6707806725573616 * 0.678275215038906 product = 0.7639238767300689\n",
            "row_x 0.8807589275882084 is multiplied on column_y  0.3187748224640491 --->0.8807589275882084 * 0.3187748224640491 product = 1.0446876475056264\n",
            "row_x 0.764344715739695 is multiplied on column_y  0.47667628368776227 --->0.764344715739695 * 0.47667628368776227 product = 1.4090326460608034\n",
            "row_x 0.7530600323937928 is multiplied on column_y  0.048073512481254466 --->0.7530600323937928 * 0.048073512481254466 product = 1.4452348869272202\n",
            "row_x 0.13918077195529732 is multiplied on column_y  0.35027914434639074 --->0.13918077195529732 * 0.35027914434639074 product = 1.493987008637192\n",
            "row_x 0.788046466519822 is multiplied on column_y  0.49605855355589146 --->0.788046466519822 * 0.49605855355589146 product = 1.8849041989538462\n",
            "row_x 0.7149990018028216 is multiplied on column_y  0.645921783405553 --->0.7149990018028216 * 0.645921783405553 product = 2.346737629331515\n",
            "row_x 0.5641705341985135 is multiplied on column_y  0.8477484189798785 --->0.5641705341985135 * 0.8477484189798785 product = 2.8250123077333384\n",
            "row_x 0.4322819169503527 is multiplied on column_y  0.7101989905394684 --->0.4322819169503527 * 0.7101989905394684 product = 3.1320184887799454\n",
            "row_x 0.13360249162927063 is multiplied on column_y  0.8959390036879062 --->0.13360249162927063 * 0.8959390036879062 product = 3.251718172020496\n",
            "row_x 0.5594424573923055 is multiplied on column_y  0.7102294879418678 --->0.5594424573923055 * 0.7102294879418678 product = 3.649050702067173\n",
            "row_x 0.602899983936497 is multiplied on column_y  0.6209370261611306 --->0.602899983936497 * 0.6209370261611306 product = 4.023413625165295\n",
            "row_x 0.8692139537530815 is multiplied on column_y  0.11739230788905008 --->0.8692139537530815 * 0.11739230788905008 product = 4.125452657245735\n",
            "row_x 0.7006653089790683 is multiplied on column_y  0.5501976106393355 --->0.7006653089790683 * 0.5501976106393355 product = 4.510957036103891\n",
            "row_x 0.8165304403332589 is multiplied on column_y  0.2163683941365574 --->0.8165304403332589 * 0.2163683941365574 product = 4.687628416242414\n",
            "row_x 0.14495889947992613 is multiplied on column_y  0.9158954270979217 --->0.14495889947992613 * 0.9158954270979217 product = 4.820395609393225\n",
            "row_x 0.6551516031376284 is multiplied on column_y  0.4796150049181671 --->0.6551516031376284 * 0.4796150049181671 product = 5.134616148754224\n",
            "row_x 0.7464841713863325 is multiplied on column_y  0.7910828728746442 --->0.7464841713863325 * 0.7910828728746442 product = 5.725146991609972\n",
            "row_x 0.03640605875154557 is multiplied on column_y  0.18981233780831008 --->0.03640605875154557 * 0.18981233780831008 product = 5.73205731073199\n",
            "row_x 0.5022594359186937 is multiplied on column_y  0.6090799732076189 --->0.5022594359186937 * 0.6090799732076189 product = 6.037973474504621\n",
            "row_x 0.43244522641013194 is multiplied on column_y  0.015840953269920854 --->0.43244522641013194 * 0.015840953269920854 product = 6.044823819127985\n",
            "row_x 0.47504919620241304 is multiplied on column_y  0.31462732473690447 --->0.47504919620241304 * 0.31462732473690447 product = 6.194287276847567\n",
            "row_x 0.3351712088027069 is multiplied on column_y  0.10420541789119753 --->0.3351712088027069 * 0.10420541789119753 product = 6.229213932725951\n",
            "row_x 0.22322762031300847 is multiplied on column_y  0.3125864742002542 --->0.22322762031300847 * 0.3125864742002542 product = 6.298991867503708\n",
            "row_x 0.10184535438264175 is multiplied on column_y  0.8896301127880045 --->0.10184535438264175 * 0.8896301127880045 product = 6.389596561610072\n",
            "row_x 0.379699796124492 is multiplied on column_y  0.493759244159203 --->0.379699796124492 * 0.493759244159203 product = 6.577076845951905\n",
            "row_x 0.4214380715293111 is multiplied on column_y  0.6772520580027075 --->0.4214380715293111 * 0.6772520580027075 product = 6.862496647215823\n",
            "row_x 0.5127675395694505 is multiplied on column_y  0.3263985997366584 --->0.5127675395694505 * 0.3263985997366584 product = 7.029863254121704\n",
            "row_x 0.8988375646103052 is multiplied on column_y  0.6732288423693671 --->0.8988375646103052 * 0.6732288423693671 product = 7.634986627222401\n",
            "row_x 0.10606960702548462 is multiplied on column_y  0.03525727781608112 --->0.10606960702548462 * 0.03525727781608112 product = 7.638726352825141\n",
            "row_x 0.5461090713711289 is multiplied on column_y  0.4885718927108613 --->0.5461090713711289 * 0.4885718927108613 product = 7.905539895451504\n",
            "[6.94008343 7.9055399 ]\n"
          ]
        }
      ]
    },
    {
      "cell_type": "code",
      "source": [
        "#2.3.4 Tensor reshaping\n"
      ],
      "metadata": {
        "colab": {
          "base_uri": "https://localhost:8080/"
        },
        "id": "sSadgcx2q1zM",
        "outputId": "4d1289ca-8a49-439a-f095-bc27177cacb9"
      },
      "execution_count": 29,
      "outputs": [
        {
          "output_type": "execute_result",
          "data": {
            "text/plain": [
              "0.13756037932252996"
            ]
          },
          "metadata": {},
          "execution_count": 29
        }
      ]
    }
  ]
}