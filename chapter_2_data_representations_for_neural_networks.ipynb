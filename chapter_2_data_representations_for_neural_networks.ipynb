{
  "nbformat": 4,
  "nbformat_minor": 0,
  "metadata": {
    "colab": {
      "provenance": [],
      "authorship_tag": "ABX9TyN3c8FLgapSgv6vnH+YdlMs",
      "include_colab_link": true
    },
    "kernelspec": {
      "name": "python3",
      "display_name": "Python 3"
    },
    "language_info": {
      "name": "python"
    }
  },
  "cells": [
    {
      "cell_type": "markdown",
      "metadata": {
        "id": "view-in-github",
        "colab_type": "text"
      },
      "source": [
        "<a href=\"https://colab.research.google.com/github/Adrianopogianeli/deep_learning_with_pyhon_sencond_edition/blob/master/chapter_2_data_representations_for_neural_networks.ipynb\" target=\"_parent\"><img src=\"https://colab.research.google.com/assets/colab-badge.svg\" alt=\"Open In Colab\"/></a>"
      ]
    },
    {
      "cell_type": "code",
      "execution_count": 2,
      "metadata": {
        "colab": {
          "base_uri": "https://localhost:8080/"
        },
        "id": "IQ2gvgLG1VVf",
        "outputId": "585af6b7-e06f-4e41-dd3b-89c5013da0da"
      },
      "outputs": [
        {
          "output_type": "execute_result",
          "data": {
            "text/plain": [
              "array(12)"
            ]
          },
          "metadata": {},
          "execution_count": 2
        }
      ],
      "source": [
        "#2.2.1 Scalars: (rank-0 tensors)\n",
        "import numpy as np\n",
        "x = np.array(12)\n",
        "x\n"
      ]
    },
    {
      "cell_type": "code",
      "source": [
        "x.ndim\n",
        "print('number of axes: %s'%x.ndim)\n",
        "print('number of dimension: %s'%str(x.shape))"
      ],
      "metadata": {
        "colab": {
          "base_uri": "https://localhost:8080/"
        },
        "id": "n1tegcao1-Ya",
        "outputId": "23368249-6e65-4109-8c32-01977bc64269"
      },
      "execution_count": 3,
      "outputs": [
        {
          "output_type": "stream",
          "name": "stdout",
          "text": [
            "number of axes: 0\n",
            "number of dimension: ()\n"
          ]
        }
      ]
    },
    {
      "cell_type": "code",
      "source": [
        "#2.2.2 Vectors: (rank-1 tensors)\n",
        "x = np.array([12,3,6,14,7])\n",
        "x"
      ],
      "metadata": {
        "colab": {
          "base_uri": "https://localhost:8080/"
        },
        "id": "RAqsKMHx2DlU",
        "outputId": "353d29a0-3b34-4c5d-861a-1642ff13c9ad"
      },
      "execution_count": 4,
      "outputs": [
        {
          "output_type": "execute_result",
          "data": {
            "text/plain": [
              "array([12,  3,  6, 14,  7])"
            ]
          },
          "metadata": {},
          "execution_count": 4
        }
      ]
    },
    {
      "cell_type": "code",
      "source": [
        "x.ndim\n",
        "print('number of axes: %s'%x.ndim)\n",
        "print('number of dimension: %s'%str(x.shape))"
      ],
      "metadata": {
        "colab": {
          "base_uri": "https://localhost:8080/"
        },
        "id": "9aCva_4I3IVe",
        "outputId": "564d4ac2-bef2-41e0-9128-e648b63d2cf6"
      },
      "execution_count": 5,
      "outputs": [
        {
          "output_type": "stream",
          "name": "stdout",
          "text": [
            "number of axes: 1\n",
            "number of dimension: (5,)\n"
          ]
        }
      ]
    },
    {
      "cell_type": "code",
      "source": [
        "#2.2.3 Matrices (rank-2 tensors) it is 2 axes: rows and lines\n",
        "x = np.array([[5,23,22,1,5],\n",
        "             [6,34,1,7,89],\n",
        "             [7,23,43,76,32]])\n",
        "x"
      ],
      "metadata": {
        "colab": {
          "base_uri": "https://localhost:8080/"
        },
        "id": "IwprymM42MsR",
        "outputId": "d95cbb1c-bf9d-4a1a-8b9a-e64a013ad492"
      },
      "execution_count": 6,
      "outputs": [
        {
          "output_type": "execute_result",
          "data": {
            "text/plain": [
              "array([[ 5, 23, 22,  1,  5],\n",
              "       [ 6, 34,  1,  7, 89],\n",
              "       [ 7, 23, 43, 76, 32]])"
            ]
          },
          "metadata": {},
          "execution_count": 6
        }
      ]
    },
    {
      "cell_type": "code",
      "source": [
        "x.ndim\n",
        "print('number of axes: %s'%x.ndim)\n",
        "print('number of dimension: %s'%str(x.shape))"
      ],
      "metadata": {
        "colab": {
          "base_uri": "https://localhost:8080/"
        },
        "id": "sZ2ihoPE5myo",
        "outputId": "c508fa20-8811-46a0-c45e-47f8f6860172"
      },
      "execution_count": 7,
      "outputs": [
        {
          "output_type": "stream",
          "name": "stdout",
          "text": [
            "number of axes: 2\n",
            "number of dimension: (3, 5)\n"
          ]
        }
      ]
    },
    {
      "cell_type": "code",
      "source": [
        "#2.2.4 Rank-3 and higher-rank tensors = it is a matrices's pack, it is 3 axes because is has 3 matrices\n",
        "x = np.array([\n",
        "    [[5,23,22,1,5],\n",
        "      [6,34,1,7,89],\n",
        "      [7,23,43,76,32]],\n",
        "          [[5,23,22,1,5],\n",
        "          [6,34,1,7,89],\n",
        "          [7,23,43,76,32]],\n",
        "             [[5,23,22,1,5],\n",
        "             [6,34,1,7,89],\n",
        "             [7,23,43,76,32]]\n",
        "             ]\n",
        "             )"
      ],
      "metadata": {
        "id": "p7pr47mP5pnR"
      },
      "execution_count": 8,
      "outputs": []
    },
    {
      "cell_type": "code",
      "source": [
        "x.ndim\n",
        "print('number of axes: %s'%x.ndim)\n",
        "print('number of dimension: %s'%str(x.shape))"
      ],
      "metadata": {
        "colab": {
          "base_uri": "https://localhost:8080/"
        },
        "id": "M3oPRjsL7pWn",
        "outputId": "a42d144d-f4d5-443a-de56-0b905422d8db"
      },
      "execution_count": 9,
      "outputs": [
        {
          "output_type": "stream",
          "name": "stdout",
          "text": [
            "number of axes: 3\n",
            "number of dimension: (3, 3, 5)\n"
          ]
        }
      ]
    },
    {
      "cell_type": "code",
      "source": [
        "#2.2.5 Key attributes\n",
        "from tensorflow.keras.datasets import mnist\n",
        "(train_images,train_labels), (test_images, test_labels) = mnist.load_data()"
      ],
      "metadata": {
        "colab": {
          "base_uri": "https://localhost:8080/"
        },
        "id": "jUCdKDyE8xYd",
        "outputId": "b29c4529-7d8a-4e33-ba90-0823280ea076"
      },
      "execution_count": 10,
      "outputs": [
        {
          "output_type": "stream",
          "name": "stdout",
          "text": [
            "Downloading data from https://storage.googleapis.com/tensorflow/tf-keras-datasets/mnist.npz\n",
            "11493376/11490434 [==============================] - 0s 0us/step\n",
            "11501568/11490434 [==============================] - 0s 0us/step\n"
          ]
        }
      ]
    },
    {
      "cell_type": "code",
      "source": [
        "#it is 3 axes because it has more than 2 matrices (rank2)\n",
        "train_images.ndim"
      ],
      "metadata": {
        "colab": {
          "base_uri": "https://localhost:8080/"
        },
        "id": "4izqHd2jc0aD",
        "outputId": "f83aa41e-2ee2-4a1d-a1a6-60e57c004147"
      },
      "execution_count": 11,
      "outputs": [
        {
          "output_type": "execute_result",
          "data": {
            "text/plain": [
              "3"
            ]
          },
          "metadata": {},
          "execution_count": 11
        }
      ]
    },
    {
      "cell_type": "code",
      "source": [
        "train_images.shape"
      ],
      "metadata": {
        "colab": {
          "base_uri": "https://localhost:8080/"
        },
        "id": "kZJEpwjbc53s",
        "outputId": "1ca7fa2f-b999-4de9-c2e2-c11fb9fcea0c"
      },
      "execution_count": 12,
      "outputs": [
        {
          "output_type": "execute_result",
          "data": {
            "text/plain": [
              "(60000, 28, 28)"
            ]
          },
          "metadata": {},
          "execution_count": 12
        }
      ]
    },
    {
      "cell_type": "code",
      "source": [
        "train_images.dtype"
      ],
      "metadata": {
        "colab": {
          "base_uri": "https://localhost:8080/"
        },
        "id": "mhMqR0vRdGl1",
        "outputId": "74f5ca90-b52e-4195-d8b3-745ebfc88b8d"
      },
      "execution_count": 15,
      "outputs": [
        {
          "output_type": "execute_result",
          "data": {
            "text/plain": [
              "dtype('uint8')"
            ]
          },
          "metadata": {},
          "execution_count": 15
        }
      ]
    },
    {
      "cell_type": "code",
      "source": [
        "# Listing 2.8 Dispaly the fourth digit of the tensor rank3\n",
        "import matplotlib.pyplot as plt\n",
        "digit = train_images[4]\n",
        "plt.imshow(digit, cmap=plt.cm.binary)\n",
        "plt.show()"
      ],
      "metadata": {
        "colab": {
          "base_uri": "https://localhost:8080/",
          "height": 265
        },
        "id": "2vmjIvAsAEjK",
        "outputId": "b7f8e5f7-b838-49f5-da2c-472e3d6b05f2"
      },
      "execution_count": 48,
      "outputs": [
        {
          "output_type": "display_data",
          "data": {
            "text/plain": [
              "<Figure size 432x288 with 1 Axes>"
            ],
            "image/png": "[encoded data removed]"
          },
          "metadata": {
            "needs_background": "light"
          }
        }
      ]
    },
    {
      "cell_type": "code",
      "source": [
        "## print all digits of the dataset\n",
        "import time\n",
        "#for item in range(len(train_images)):\n",
        "  #plt.imshow(train_images[item], cmap=plt.cm.binary)\n",
        "  #plt.show()\n",
        "  #time.sleep(2)"
      ],
      "metadata": {
        "id": "srgFXg14AEtT"
      },
      "execution_count": 29,
      "outputs": []
    },
    {
      "cell_type": "code",
      "source": [
        "train_labels[4]"
      ],
      "metadata": {
        "colab": {
          "base_uri": "https://localhost:8080/"
        },
        "id": "0OmEpPRqDc2n",
        "outputId": "f4eede2b-4539-485b-94ce-0a7aa4022944"
      },
      "execution_count": 34,
      "outputs": [
        {
          "output_type": "execute_result",
          "data": {
            "text/plain": [
              "9"
            ]
          },
          "metadata": {},
          "execution_count": 34
        }
      ]
    },
    {
      "cell_type": "code",
      "source": [
        "#2.2.6 Manipulation tensors in Numpy\n",
        "my_slice = train_images[10:100]\n",
        "my_slice.shape"
      ],
      "metadata": {
        "colab": {
          "base_uri": "https://localhost:8080/"
        },
        "id": "kTsQ_upBDvHw",
        "outputId": "93c6e3fb-9036-452f-c009-0e9492bafe36"
      },
      "execution_count": 35,
      "outputs": [
        {
          "output_type": "execute_result",
          "data": {
            "text/plain": [
              "(90, 28, 28)"
            ]
          },
          "metadata": {},
          "execution_count": 35
        }
      ]
    },
    {
      "cell_type": "code",
      "source": [
        "my_slice = train_images[10:100, :,:]\n",
        "my_slice.shape"
      ],
      "metadata": {
        "colab": {
          "base_uri": "https://localhost:8080/"
        },
        "id": "nfI5l7T9E03I",
        "outputId": "9bba30de-5e90-47ef-9da8-a48022d497c3"
      },
      "execution_count": 36,
      "outputs": [
        {
          "output_type": "execute_result",
          "data": {
            "text/plain": [
              "(90, 28, 28)"
            ]
          },
          "metadata": {},
          "execution_count": 36
        }
      ]
    },
    {
      "cell_type": "code",
      "source": [
        "my_slice = train_images[10:100,0:28,0:28]\n",
        "my_slice.shape"
      ],
      "metadata": {
        "colab": {
          "base_uri": "https://localhost:8080/"
        },
        "id": "LxTqWfKWFOpm",
        "outputId": "cfb6e483-bbe7-44cf-c73f-b7ef81f6ea6a"
      },
      "execution_count": 38,
      "outputs": [
        {
          "output_type": "execute_result",
          "data": {
            "text/plain": [
              "(90, 28, 28)"
            ]
          },
          "metadata": {},
          "execution_count": 38
        }
      ]
    },
    {
      "cell_type": "code",
      "source": [
        "#select 14x14 pixes on bottom-rigth\n",
        "my_slice = train_images[:,0:14,0:14]\n",
        "my_slice.shape"
      ],
      "metadata": {
        "colab": {
          "base_uri": "https://localhost:8080/"
        },
        "id": "ywpTGiD9FWvl",
        "outputId": "bf6b9540-fd06-4c64-eff1-6281aad14868"
      },
      "execution_count": 39,
      "outputs": [
        {
          "output_type": "execute_result",
          "data": {
            "text/plain": [
              "(60000, 14, 14)"
            ]
          },
          "metadata": {},
          "execution_count": 39
        }
      ]
    },
    {
      "cell_type": "code",
      "source": [
        "my_slice = train_images[:,7:-7,7:-7]\n",
        "my_slice.shape"
      ],
      "metadata": {
        "colab": {
          "base_uri": "https://localhost:8080/"
        },
        "id": "7PoF-b5KFs3I",
        "outputId": "36381e94-6e7d-469d-f762-2e5b9fa039ce"
      },
      "execution_count": 41,
      "outputs": [
        {
          "output_type": "execute_result",
          "data": {
            "text/plain": [
              "(60000, 14, 14)"
            ]
          },
          "metadata": {},
          "execution_count": 41
        }
      ]
    },
    {
      "cell_type": "code",
      "source": [
        "#2.2.7 The notion of data batches\n",
        "batch = train_images[:128]\n",
        "batch.shape"
      ],
      "metadata": {
        "colab": {
          "base_uri": "https://localhost:8080/"
        },
        "id": "C8griuT2F-e5",
        "outputId": "f0798172-568c-40ab-8636-a212acab420f"
      },
      "execution_count": 44,
      "outputs": [
        {
          "output_type": "execute_result",
          "data": {
            "text/plain": [
              "(128, 28, 28)"
            ]
          },
          "metadata": {},
          "execution_count": 44
        }
      ]
    },
    {
      "cell_type": "code",
      "source": [
        "batch = train_images[128:256]\n",
        "batch.shape"
      ],
      "metadata": {
        "colab": {
          "base_uri": "https://localhost:8080/"
        },
        "id": "uYGeno5HI6m7",
        "outputId": "5148668f-ece8-4daa-bbb1-fae08ee96c60"
      },
      "execution_count": 45,
      "outputs": [
        {
          "output_type": "execute_result",
          "data": {
            "text/plain": [
              "(128, 28, 28)"
            ]
          },
          "metadata": {},
          "execution_count": 45
        }
      ]
    },
    {
      "cell_type": "code",
      "source": [
        "n =3\n",
        "batch = train_images[128 * n: 128 * (n+1)]\n",
        "batch.shape"
      ],
      "metadata": {
        "colab": {
          "base_uri": "https://localhost:8080/"
        },
        "id": "qXXpPgmCI_hR",
        "outputId": "b95cf400-4299-492b-8b34-2e0cacf97ab9"
      },
      "execution_count": 46,
      "outputs": [
        {
          "output_type": "execute_result",
          "data": {
            "text/plain": [
              "(128, 28, 28)"
            ]
          },
          "metadata": {},
          "execution_count": 46
        }
      ]
    },
    {
      "cell_type": "code",
      "source": [
        "#2.3 Tensor operators\n",
        "#keras.layers.Dense(512)\n",
        "#output = relu(dot(input, w)+ b)"
      ],
      "metadata": {
        "id": "pie6HJjWI2c1"
      },
      "execution_count": 49,
      "outputs": []
    },
    {
      "cell_type": "code",
      "source": [
        "#2.3.1 element-wise operations\n",
        "def naive_relu(x):\n",
        "  assert len(x.shape) == 2\n",
        "  x = x.copy() #avoid overwriting the input tensor\n",
        "  for i in range(x.shape[0]):\n",
        "    for j in range(x.shape[1]):\n",
        "      x[i,j] = max(x[i,j],0)\n",
        "  return x"
      ],
      "metadata": {
        "id": "NPL2u0yx2yYt"
      },
      "execution_count": 85,
      "outputs": []
    },
    {
      "cell_type": "code",
      "source": [
        "naive_test1 = np.array([[12,13,23],[1,2,3],[2,3,4],[3,4,5]])\n",
        "naive_test2 = np.array([[12,13,23],[1,2,3],[2,3,4],[3,4,6]])\n",
        "#naive_test.shape\n",
        "naive_relu(naive_test1)\n"
      ],
      "metadata": {
        "colab": {
          "base_uri": "https://localhost:8080/"
        },
        "id": "L2TiTCuT4A5U",
        "outputId": "b9c9a0d4-7873-4152-a0c3-562d906b0315"
      },
      "execution_count": 86,
      "outputs": [
        {
          "output_type": "execute_result",
          "data": {
            "text/plain": [
              "array([[12, 13, 23],\n",
              "       [ 1,  2,  3],\n",
              "       [ 2,  3,  4],\n",
              "       [ 3,  4,  5]])"
            ]
          },
          "metadata": {},
          "execution_count": 86
        }
      ]
    },
    {
      "cell_type": "code",
      "source": [
        "#2.3.1 element-wise operations for addition\n",
        "def naive_relu(x, y): # x and y are rank-2 numpy tensors\n",
        "  assert len(x.shape) == 2\n",
        "  assert x.shape == y.shape\n",
        "  x = x.copy() #avoid overwriting the input tensor\n",
        "  for i in range(x.shape[0]):\n",
        "    for j in range(x.shape[1]):\n",
        "      x[i,j] =+ y[i,j]\n",
        "  return x"
      ],
      "metadata": {
        "id": "WwR6Dxnz4QEv"
      },
      "execution_count": 87,
      "outputs": []
    },
    {
      "cell_type": "code",
      "source": [
        "naive_relu(naive_test1,naive_test2)"
      ],
      "metadata": {
        "colab": {
          "base_uri": "https://localhost:8080/"
        },
        "id": "_arThuku8PPs",
        "outputId": "de67b743-8cfb-4f1b-a52a-e5d62885bb77"
      },
      "execution_count": 88,
      "outputs": [
        {
          "output_type": "execute_result",
          "data": {
            "text/plain": [
              "array([[12, 13, 23],\n",
              "       [ 1,  2,  3],\n",
              "       [ 2,  3,  4],\n",
              "       [ 3,  4,  6]])"
            ]
          },
          "metadata": {},
          "execution_count": 88
        }
      ]
    },
    {
      "cell_type": "code",
      "source": [],
      "metadata": {
        "id": "PLpkzdE18Wub"
      },
      "execution_count": null,
      "outputs": []
    }
  ]
}