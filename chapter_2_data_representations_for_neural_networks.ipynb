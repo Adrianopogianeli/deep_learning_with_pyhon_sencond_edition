{
  "nbformat": 4,
  "nbformat_minor": 0,
  "metadata": {
    "colab": {
      "provenance": [],
      "authorship_tag": "ABX9TyM6nE1RiZMvp//RXH8XB4zh",
      "include_colab_link": true
    },
    "kernelspec": {
      "name": "python3",
      "display_name": "Python 3"
    },
    "language_info": {
      "name": "python"
    }
  },
  "cells": [
    {
      "cell_type": "markdown",
      "metadata": {
        "id": "view-in-github",
        "colab_type": "text"
      },
      "source": [
        "<a href=\"https://colab.research.google.com/github/Adrianopogianeli/deep_learning_with_pyhon_sencond_edition/blob/master/chapter_2_data_representations_for_neural_networks.ipynb\" target=\"_parent\"><img src=\"https://colab.research.google.com/assets/colab-badge.svg\" alt=\"Open In Colab\"/></a>"
      ]
    },
    {
      "cell_type": "code",
      "execution_count": null,
      "metadata": {
        "colab": {
          "base_uri": "https://localhost:8080/"
        },
        "id": "IQ2gvgLG1VVf",
        "outputId": "18e12da4-3325-46e8-c7b9-5bf60caff9ec"
      },
      "outputs": [
        {
          "output_type": "execute_result",
          "data": {
            "text/plain": [
              "array(12)"
            ]
          },
          "metadata": {},
          "execution_count": 42
        }
      ],
      "source": [
        "#2.2.1 Scalars: (rank-0 tensors)\n",
        "import numpy as np\n",
        "x = np.array(12)\n",
        "x\n"
      ]
    },
    {
      "cell_type": "code",
      "source": [
        "x.ndim\n",
        "print('number of axes: %s'%x.ndim)\n",
        "print('number of dimension: %s'%str(x.shape))"
      ],
      "metadata": {
        "colab": {
          "base_uri": "https://localhost:8080/"
        },
        "id": "n1tegcao1-Ya",
        "outputId": "984116fe-6e55-490f-ab4e-e687f62f86cf"
      },
      "execution_count": null,
      "outputs": [
        {
          "output_type": "stream",
          "name": "stdout",
          "text": [
            "number of axes: 0\n",
            "number of dimension: ()\n"
          ]
        }
      ]
    },
    {
      "cell_type": "code",
      "source": [
        "#2.2.2 Vectors: (rank-1 tensors)\n",
        "x = np.array([12,3,6,14,7])\n",
        "x"
      ],
      "metadata": {
        "colab": {
          "base_uri": "https://localhost:8080/"
        },
        "id": "RAqsKMHx2DlU",
        "outputId": "d2c0c802-2d58-4a2d-cbd6-ea60bfa71b80"
      },
      "execution_count": null,
      "outputs": [
        {
          "output_type": "execute_result",
          "data": {
            "text/plain": [
              "array([12,  3,  6, 14,  7])"
            ]
          },
          "metadata": {},
          "execution_count": 44
        }
      ]
    },
    {
      "cell_type": "code",
      "source": [
        "x.ndim\n",
        "print('number of axes: %s'%x.ndim)\n",
        "print('number of dimension: %s'%str(x.shape))"
      ],
      "metadata": {
        "colab": {
          "base_uri": "https://localhost:8080/"
        },
        "id": "9aCva_4I3IVe",
        "outputId": "18743f83-d4b1-401b-9369-fd04574d0ac0"
      },
      "execution_count": null,
      "outputs": [
        {
          "output_type": "stream",
          "name": "stdout",
          "text": [
            "number of axes: 1\n",
            "number of dimension: (5,)\n"
          ]
        }
      ]
    },
    {
      "cell_type": "code",
      "source": [
        "#2.2.3 Matrices (rank-2 tensors) it is 2 axes: rows and lines\n",
        "x = np.array([[5,23,22,1,5],\n",
        "             [6,34,1,7,89],\n",
        "             [7,23,43,76,32]])\n",
        "x"
      ],
      "metadata": {
        "colab": {
          "base_uri": "https://localhost:8080/"
        },
        "id": "IwprymM42MsR",
        "outputId": "cfd34c52-7d6b-413c-de54-ba82c745bc20"
      },
      "execution_count": null,
      "outputs": [
        {
          "output_type": "execute_result",
          "data": {
            "text/plain": [
              "array([[ 5, 23, 22,  1,  5],\n",
              "       [ 6, 34,  1,  7, 89],\n",
              "       [ 7, 23, 43, 76, 32]])"
            ]
          },
          "metadata": {},
          "execution_count": 46
        }
      ]
    },
    {
      "cell_type": "code",
      "source": [
        "x.ndim\n",
        "print('number of axes: %s'%x.ndim)\n",
        "print('number of dimension: %s'%str(x.shape))"
      ],
      "metadata": {
        "colab": {
          "base_uri": "https://localhost:8080/"
        },
        "id": "sZ2ihoPE5myo",
        "outputId": "b35e20bb-8b35-41fd-ae17-38532dfb7580"
      },
      "execution_count": null,
      "outputs": [
        {
          "output_type": "stream",
          "name": "stdout",
          "text": [
            "number of axes: 2\n",
            "number of dimension: (3, 5)\n"
          ]
        }
      ]
    },
    {
      "cell_type": "code",
      "source": [
        "#2.2.4 Rank-3 and higher-rank tensors = it is a matrices's pack, it is 3 axes because is has 3 matrices\n",
        "x = np.array([\n",
        "    [[5,23,22,1,5],\n",
        "      [6,34,1,7,89],\n",
        "      [7,23,43,76,32]],\n",
        "          [[5,23,22,1,5],\n",
        "          [6,34,1,7,89],\n",
        "          [7,23,43,76,32]],\n",
        "             [[5,23,22,1,5],\n",
        "             [6,34,1,7,89],\n",
        "             [7,23,43,76,32]]\n",
        "             ]\n",
        "             )"
      ],
      "metadata": {
        "id": "p7pr47mP5pnR"
      },
      "execution_count": null,
      "outputs": []
    },
    {
      "cell_type": "code",
      "source": [
        "x.ndim\n",
        "print('number of axes: %s'%x.ndim)\n",
        "print('number of dimension: %s'%str(x.shape))"
      ],
      "metadata": {
        "colab": {
          "base_uri": "https://localhost:8080/"
        },
        "id": "M3oPRjsL7pWn",
        "outputId": "7ddd43bb-a3d4-4a07-95d1-8ea3c1a0f323"
      },
      "execution_count": null,
      "outputs": [
        {
          "output_type": "stream",
          "name": "stdout",
          "text": [
            "number of axes: 3\n",
            "number of dimension: (3, 3, 5)\n"
          ]
        }
      ]
    },
    {
      "cell_type": "code",
      "source": [
        "#2.2.5 Key attributes\n",
        "from tensorflow.keras.datasets import mnist\n",
        "(train_images,train_labels), (test_images, test_labels) = mnist.load_data()"
      ],
      "metadata": {
        "id": "jUCdKDyE8xYd"
      },
      "execution_count": null,
      "outputs": []
    },
    {
      "cell_type": "code",
      "source": [
        "#it is 3 axes because it has more than 2 matrices (rank2)\n",
        "train_images.ndim"
      ],
      "metadata": {
        "colab": {
          "base_uri": "https://localhost:8080/"
        },
        "id": "4izqHd2jc0aD",
        "outputId": "5e1abb7b-6c69-4430-f770-9b9a65360b3f"
      },
      "execution_count": null,
      "outputs": [
        {
          "output_type": "execute_result",
          "data": {
            "text/plain": [
              "3"
            ]
          },
          "metadata": {},
          "execution_count": 51
        }
      ]
    },
    {
      "cell_type": "code",
      "source": [
        "train_images.shape"
      ],
      "metadata": {
        "colab": {
          "base_uri": "https://localhost:8080/"
        },
        "id": "kZJEpwjbc53s",
        "outputId": "cb3fd883-bff0-4d8a-b171-ff0c8f369838"
      },
      "execution_count": null,
      "outputs": [
        {
          "output_type": "execute_result",
          "data": {
            "text/plain": [
              "(60000, 28, 28)"
            ]
          },
          "metadata": {},
          "execution_count": 52
        }
      ]
    },
    {
      "cell_type": "code",
      "source": [
        "train_images.dtype"
      ],
      "metadata": {
        "colab": {
          "base_uri": "https://localhost:8080/"
        },
        "id": "mhMqR0vRdGl1",
        "outputId": "cda6c55d-a62d-4b48-8fe1-c88bbc2df6dc"
      },
      "execution_count": null,
      "outputs": [
        {
          "output_type": "execute_result",
          "data": {
            "text/plain": [
              "dtype('uint8')"
            ]
          },
          "metadata": {},
          "execution_count": 53
        }
      ]
    },
    {
      "cell_type": "code",
      "source": [
        "# Listing 2.8 Dispaly the fourth digit of the tensor rank3\n",
        "import matplotlib.pyplot as plt\n",
        "digit = train_images[4]\n",
        "plt.imshow(digit, cmap=plt.cm.binary)\n",
        "plt.show()"
      ],
      "metadata": {
        "colab": {
          "base_uri": "https://localhost:8080/",
          "height": 265
        },
        "id": "2vmjIvAsAEjK",
        "outputId": "b14fcb78-3243-4d57-a320-d7b4454bb3cc"
      },
      "execution_count": null,
      "outputs": [
        {
          "output_type": "display_data",
          "data": {
            "text/plain": [
              "<Figure size 432x288 with 1 Axes>"
            ],
            "image/png": "[encoded data removed]"
          },
          "metadata": {
            "needs_background": "light"
          }
        }
      ]
    },
    {
      "cell_type": "code",
      "source": [
        "## print all digits of the dataset\n",
        "import time\n",
        "#for item in range(len(train_images)):\n",
        "  #plt.imshow(train_images[item], cmap=plt.cm.binary)\n",
        "  #plt.show()\n",
        "  #time.sleep(2)"
      ],
      "metadata": {
        "id": "srgFXg14AEtT"
      },
      "execution_count": null,
      "outputs": []
    },
    {
      "cell_type": "code",
      "source": [
        "train_labels[4]"
      ],
      "metadata": {
        "colab": {
          "base_uri": "https://localhost:8080/"
        },
        "id": "0OmEpPRqDc2n",
        "outputId": "0203e09c-ab3b-4d59-c358-daa68dc56c81"
      },
      "execution_count": null,
      "outputs": [
        {
          "output_type": "execute_result",
          "data": {
            "text/plain": [
              "9"
            ]
          },
          "metadata": {},
          "execution_count": 56
        }
      ]
    },
    {
      "cell_type": "code",
      "source": [
        "#2.2.6 Manipulation tensors in Numpy\n",
        "my_slice = train_images[10:100]\n",
        "my_slice.shape"
      ],
      "metadata": {
        "colab": {
          "base_uri": "https://localhost:8080/"
        },
        "id": "kTsQ_upBDvHw",
        "outputId": "84c47b48-e311-4069-cd32-b136c41aeff9"
      },
      "execution_count": null,
      "outputs": [
        {
          "output_type": "execute_result",
          "data": {
            "text/plain": [
              "(90, 28, 28)"
            ]
          },
          "metadata": {},
          "execution_count": 57
        }
      ]
    },
    {
      "cell_type": "code",
      "source": [
        "my_slice = train_images[10:100, :,:]\n",
        "my_slice.shape"
      ],
      "metadata": {
        "colab": {
          "base_uri": "https://localhost:8080/"
        },
        "id": "nfI5l7T9E03I",
        "outputId": "f169db08-049a-48c9-de00-e3f40cff6983"
      },
      "execution_count": null,
      "outputs": [
        {
          "output_type": "execute_result",
          "data": {
            "text/plain": [
              "(90, 28, 28)"
            ]
          },
          "metadata": {},
          "execution_count": 58
        }
      ]
    },
    {
      "cell_type": "code",
      "source": [
        "my_slice = train_images[10:100,0:28,0:28]\n",
        "my_slice.shape"
      ],
      "metadata": {
        "colab": {
          "base_uri": "https://localhost:8080/"
        },
        "id": "LxTqWfKWFOpm",
        "outputId": "cdab0285-aef0-4503-f89e-adec552bc462"
      },
      "execution_count": null,
      "outputs": [
        {
          "output_type": "execute_result",
          "data": {
            "text/plain": [
              "(90, 28, 28)"
            ]
          },
          "metadata": {},
          "execution_count": 59
        }
      ]
    },
    {
      "cell_type": "code",
      "source": [
        "#select 14x14 pixes on bottom-rigth\n",
        "my_slice = train_images[:,0:14,0:14]\n",
        "my_slice.shape"
      ],
      "metadata": {
        "colab": {
          "base_uri": "https://localhost:8080/"
        },
        "id": "ywpTGiD9FWvl",
        "outputId": "3ccac679-0004-4114-ce2e-637282431284"
      },
      "execution_count": null,
      "outputs": [
        {
          "output_type": "execute_result",
          "data": {
            "text/plain": [
              "(60000, 14, 14)"
            ]
          },
          "metadata": {},
          "execution_count": 60
        }
      ]
    },
    {
      "cell_type": "code",
      "source": [
        "my_slice = train_images[:,7:-7,7:-7]\n",
        "my_slice.shape"
      ],
      "metadata": {
        "colab": {
          "base_uri": "https://localhost:8080/"
        },
        "id": "7PoF-b5KFs3I",
        "outputId": "322414b4-74ed-45b7-ad9e-3d2085ce798b"
      },
      "execution_count": null,
      "outputs": [
        {
          "output_type": "execute_result",
          "data": {
            "text/plain": [
              "(60000, 14, 14)"
            ]
          },
          "metadata": {},
          "execution_count": 61
        }
      ]
    },
    {
      "cell_type": "code",
      "source": [
        "#2.2.7 The notion of data batches\n",
        "batch = train_images[:128]\n",
        "batch.shape"
      ],
      "metadata": {
        "colab": {
          "base_uri": "https://localhost:8080/"
        },
        "id": "C8griuT2F-e5",
        "outputId": "00a8182c-4d26-4376-b3bd-917c32c094ba"
      },
      "execution_count": null,
      "outputs": [
        {
          "output_type": "execute_result",
          "data": {
            "text/plain": [
              "(128, 28, 28)"
            ]
          },
          "metadata": {},
          "execution_count": 62
        }
      ]
    },
    {
      "cell_type": "code",
      "source": [
        "batch = train_images[128:256]\n",
        "batch.shape"
      ],
      "metadata": {
        "colab": {
          "base_uri": "https://localhost:8080/"
        },
        "id": "uYGeno5HI6m7",
        "outputId": "156d790e-53d3-480a-8a87-8708e025a4c7"
      },
      "execution_count": null,
      "outputs": [
        {
          "output_type": "execute_result",
          "data": {
            "text/plain": [
              "(128, 28, 28)"
            ]
          },
          "metadata": {},
          "execution_count": 63
        }
      ]
    },
    {
      "cell_type": "code",
      "source": [
        "n =3\n",
        "batch = train_images[128 * n: 128 * (n+1)]\n",
        "batch.shape"
      ],
      "metadata": {
        "colab": {
          "base_uri": "https://localhost:8080/"
        },
        "id": "qXXpPgmCI_hR",
        "outputId": "07fa1468-58ce-4650-9a3d-bae060d4eda7"
      },
      "execution_count": null,
      "outputs": [
        {
          "output_type": "execute_result",
          "data": {
            "text/plain": [
              "(128, 28, 28)"
            ]
          },
          "metadata": {},
          "execution_count": 64
        }
      ]
    },
    {
      "cell_type": "code",
      "source": [
        "#2.3 Tensor operators\n",
        "#keras.layers.Dense(512)\n",
        "#output = relu(dot(input, w)+ b)\n",
        "naive_test1 = np.array([[12,13,23],[1,4,3],[2,5,4],[3,6,5]])\n",
        "naive_test2 = np.array([[12,13,23],[1,2,3],[2,3,4],[3,4,6]])"
      ],
      "metadata": {
        "id": "pie6HJjWI2c1"
      },
      "execution_count": null,
      "outputs": []
    },
    {
      "cell_type": "code",
      "source": [
        "#2.3.1 element-wise operations\n",
        "def naive_relu(x):\n",
        "  assert len(x.shape) == 2\n",
        "  x = x.copy() #avoid overwriting the input tensor\n",
        "  for i in range(x.shape[0]):\n",
        "    for j in range(x.shape[1]):\n",
        "      x[i,j] = max(x[i,j],0)\n",
        "  return x"
      ],
      "metadata": {
        "id": "NPL2u0yx2yYt"
      },
      "execution_count": null,
      "outputs": []
    },
    {
      "cell_type": "code",
      "source": [
        "#naive_test.shape\n",
        "naive_relu(naive_test1)\n"
      ],
      "metadata": {
        "colab": {
          "base_uri": "https://localhost:8080/"
        },
        "id": "L2TiTCuT4A5U",
        "outputId": "d1c38f2b-8686-40fb-a7a0-58d10f229e7b"
      },
      "execution_count": null,
      "outputs": [
        {
          "output_type": "execute_result",
          "data": {
            "text/plain": [
              "array([[12, 13, 23],\n",
              "       [ 1,  4,  3],\n",
              "       [ 2,  5,  4],\n",
              "       [ 3,  6,  5]])"
            ]
          },
          "metadata": {},
          "execution_count": 67
        }
      ]
    },
    {
      "cell_type": "code",
      "source": [
        "#2.3.1 element-wise operations for addition\n",
        "def naive_add(x, y): # x and y are rank-2 numpy tensors\n",
        "  assert len(x.shape) == 2\n",
        "  assert x.shape == y.shape\n",
        "  x = x.copy() #avoid overwriting the input tensor\n",
        "  for i in range(x.shape[0]):\n",
        "    for j in range(x.shape[1]):\n",
        "      x[i,j] += y[i,j]\n",
        "  return x"
      ],
      "metadata": {
        "id": "WwR6Dxnz4QEv"
      },
      "execution_count": null,
      "outputs": []
    },
    {
      "cell_type": "code",
      "source": [
        "naive_add(naive_test1,naive_test2)"
      ],
      "metadata": {
        "colab": {
          "base_uri": "https://localhost:8080/"
        },
        "id": "_arThuku8PPs",
        "outputId": "4b9c3df9-c984-4d06-f7a2-88cba129fe22"
      },
      "execution_count": null,
      "outputs": [
        {
          "output_type": "execute_result",
          "data": {
            "text/plain": [
              "array([[24, 26, 46],\n",
              "       [ 2,  6,  6],\n",
              "       [ 4,  8,  8],\n",
              "       [ 6, 10, 11]])"
            ]
          },
          "metadata": {},
          "execution_count": 69
        }
      ]
    },
    {
      "cell_type": "code",
      "source": [
        "#check the diference of time between numpy and naive wise element \n",
        "import numpy as np\n",
        "import time\n",
        "x = np.random.random((20,100))\n",
        "y = np.random.random((20,100))\n",
        "\n",
        "t0 = time.time()\n",
        "for _ in range(1000):\n",
        "  z = x + y\n",
        "  z = np.maximum(z,0.)\n",
        "print(\"Took: {0:.2f} s\".format(time.time() - t0))"
      ],
      "metadata": {
        "id": "PLpkzdE18Wub",
        "colab": {
          "base_uri": "https://localhost:8080/"
        },
        "outputId": "864a357e-78ac-4be2-c2df-5c5efb2cba13"
      },
      "execution_count": null,
      "outputs": [
        {
          "output_type": "stream",
          "name": "stdout",
          "text": [
            "Took: 0.01 s\n"
          ]
        }
      ]
    },
    {
      "cell_type": "code",
      "source": [
        "import numpy as np\n",
        "import time\n",
        "x = np.random.random((20,100))\n",
        "y = np.random.random((20,100))\n",
        "\n",
        "t0 = time.time()\n",
        "for _ in range(1000):\n",
        "  z = naive_add(x,y)\n",
        "  z = naive_relu(z)\n",
        "print(\"Took: {0:.2f} s\".format(time.time() - t0))"
      ],
      "metadata": {
        "colab": {
          "base_uri": "https://localhost:8080/"
        },
        "id": "VmDjRucRRspY",
        "outputId": "742b0d97-3296-4e91-d429-552865383746"
      },
      "execution_count": null,
      "outputs": [
        {
          "output_type": "stream",
          "name": "stdout",
          "text": [
            "Took: 2.11 s\n"
          ]
        }
      ]
    },
    {
      "cell_type": "code",
      "source": [
        "#2.3.2 Broadcasting\n",
        "import numpy as np\n",
        "x = np.random.random((32,10))\n",
        "print(\"x = {}\".format(x.shape))\n",
        "y = np.random.random((10,))\n",
        "print(\"y = {}\".format(y.shape))\n",
        "y = np.expand_dims(y, axis=0)\n",
        "print(\"after expand_dim y ={}\".format(y.shape))\n",
        "y"
      ],
      "metadata": {
        "colab": {
          "base_uri": "https://localhost:8080/"
        },
        "id": "ssJRLNpQSH7t",
        "outputId": "74af85ed-bdd2-4779-aeaf-7d80c1fc81aa"
      },
      "execution_count": null,
      "outputs": [
        {
          "output_type": "stream",
          "name": "stdout",
          "text": [
            "x = (32, 10)\n",
            "y = (10,)\n",
            "after expand_dim y =(1, 10)\n"
          ]
        },
        {
          "output_type": "execute_result",
          "data": {
            "text/plain": [
              "array([[0.37342496, 0.5026353 , 0.50226633, 0.53104451, 0.37614341,\n",
              "        0.61136016, 0.89136346, 0.04197201, 0.97706738, 0.90901616]])"
            ]
          },
          "metadata": {},
          "execution_count": 72
        }
      ]
    },
    {
      "cell_type": "code",
      "source": [
        "y = np.concatenate([y] * 32, axis=0)\n",
        "y.shape"
      ],
      "metadata": {
        "colab": {
          "base_uri": "https://localhost:8080/"
        },
        "id": "nmYyvUOjVOhp",
        "outputId": "26380a2c-dfdc-422e-b117-cd78bbb6ad20"
      },
      "execution_count": null,
      "outputs": [
        {
          "output_type": "execute_result",
          "data": {
            "text/plain": [
              "(32, 10)"
            ]
          },
          "metadata": {},
          "execution_count": 73
        }
      ]
    },
    {
      "cell_type": "code",
      "source": [
        "# below the same concept but using naive implementation\n",
        "def naive_add_matrix_and_vector(x,y):\n",
        "  assert len(x.shape) == 2\n",
        "  assert len(y.shape) == 1\n",
        "  assert x.shape[1] == y.shape[0]\n",
        "  x = x.copy()\n",
        "  for i in range(x.shape[0]):\n",
        "    for j in range(x.shape[1]):\n",
        "      x[i,j] += y[j]\n",
        "  return x.shape"
      ],
      "metadata": {
        "id": "kLF-R1ahUZL0"
      },
      "execution_count": null,
      "outputs": []
    },
    {
      "cell_type": "code",
      "source": [
        "x = np.random.random((32,10))\n",
        "y = np.random.random((10,))\n",
        "naive_add_matrix_and_vector(x,y)"
      ],
      "metadata": {
        "colab": {
          "base_uri": "https://localhost:8080/"
        },
        "id": "1DO1Fb3oX8sX",
        "outputId": "1f6e9b9a-2a0e-4adb-9ed7-14e36309185b"
      },
      "execution_count": null,
      "outputs": [
        {
          "output_type": "execute_result",
          "data": {
            "text/plain": [
              "(32, 10)"
            ]
          },
          "metadata": {},
          "execution_count": 75
        }
      ]
    },
    {
      "cell_type": "code",
      "source": [
        "import numpy as np\n",
        "x = np.random.random((64,3,32,10))\n",
        "y = np.random.random((32,10))\n",
        "z = np.maximum(x,y)\n",
        "z.shape"
      ],
      "metadata": {
        "colab": {
          "base_uri": "https://localhost:8080/"
        },
        "id": "bX89gXPGYOhR",
        "outputId": "853f9531-9954-484a-cc48-3a31eb013f55"
      },
      "execution_count": null,
      "outputs": [
        {
          "output_type": "execute_result",
          "data": {
            "text/plain": [
              "(64, 3, 32, 10)"
            ]
          },
          "metadata": {},
          "execution_count": 76
        }
      ]
    },
    {
      "cell_type": "code",
      "source": [
        "#2.3.3 Tensor product or dot product # product is the result of the multiplication\n",
        "x = np.random.random((32,))\n",
        "y = np.random.random((32,))\n",
        "z = np.dot(x,y) # z = product\n",
        "z"
      ],
      "metadata": {
        "colab": {
          "base_uri": "https://localhost:8080/"
        },
        "id": "xr9MKN3ZZJwj",
        "outputId": "5453b7d8-b9b4-456f-c092-726880bc86c6"
      },
      "execution_count": null,
      "outputs": [
        {
          "output_type": "execute_result",
          "data": {
            "text/plain": [
              "8.220549863740082"
            ]
          },
          "metadata": {},
          "execution_count": 77
        }
      ]
    },
    {
      "cell_type": "code",
      "source": [
        "#what does the dot operation do?\n",
        "def naive_vector_dot(x,y):\n",
        "  assert len(x.shape) == 1\n",
        "  assert len(y.shape) == 1\n",
        "  z = 0.\n",
        "  for i in range(x.shape[0]):\n",
        "    z += x[i] * y[i]\n",
        "    #print(z)\n",
        "  return z\n",
        "\n",
        "x = np.random.random((32,))\n",
        "y = np.random.random((32,))\n",
        "#print(x,y)\n",
        "print(naive_vector_dot(x,y))"
      ],
      "metadata": {
        "colab": {
          "base_uri": "https://localhost:8080/"
        },
        "id": "2H-J8epHhqZG",
        "outputId": "5a852df4-6848-41cf-df01-a4907f6d7968"
      },
      "execution_count": null,
      "outputs": [
        {
          "output_type": "stream",
          "name": "stdout",
          "text": [
            "9.935496464289528\n"
          ]
        }
      ]
    },
    {
      "cell_type": "code",
      "source": [
        "#product between a matrix and vector\n",
        "def naive_matrix_vector_dot(x,y):\n",
        "  assert len(x.shape) == 2\n",
        "  assert len(y.shape) == 1\n",
        "  assert x.shape[1] == y.shape[0]\n",
        "  #print('x shape ---> {}'.format(x.shape))\n",
        "  #print('y shape ---> {}'.format(y.shape))\n",
        "  z = np.zeros(x.shape[0])\n",
        "  #print(z)\n",
        "  for i in range(x.shape[0]):\n",
        "    #print('proccesing the row --> {}'.format(i))\n",
        "    for j in range(x.shape[1]):\n",
        "      z[i] += x[i, j] * y[j]\n",
        "      #print('row_x {} is multiplied on column_y  {} --->{} * {} product = {}'.format(x[i,j],y[j],x[i, j],y[j],z[i]))\n",
        "  return z\n",
        "\n",
        "x = np.random.random((2,32))\n",
        "y = np.random.random((32,))\n",
        "print(naive_matrix_vector_dot(x,y))"
      ],
      "metadata": {
        "colab": {
          "base_uri": "https://localhost:8080/"
        },
        "id": "BuvBsUhXlAcl",
        "outputId": "440c3fef-fe9d-44d6-de20-9c4ac602de2c"
      },
      "execution_count": null,
      "outputs": [
        {
          "output_type": "stream",
          "name": "stdout",
          "text": [
            "[7.19541759 7.10923129]\n"
          ]
        }
      ]
    },
    {
      "cell_type": "code",
      "source": [
        "#using two functions\n",
        "def naive_matrix_vector_dot(x,y):\n",
        "  assert len(x.shape) == 2\n",
        "  assert len(y.shape) == 2\n",
        "  assert x.shape[1] == y.shape[0]\n",
        "  #print('x shape ---> {}'.format(x.shape))\n",
        "  #print('y shape ---> {}'.format(y.shape))\n",
        "  z = np.zeros((x.shape[0], y.shape[1]))\n",
        "  #print('z ---> {}'.format(z))\n",
        "  for i in range(x.shape[0]):\n",
        "    for j in range(y.shape[1]):\n",
        "      row_x = x[i,:] # x width \n",
        "      column_y = y[:,j] # y height\n",
        "      z[i,j] = naive_vector_dot(row_x, column_y)\n",
        "      #print('row_x is multiplied on column_y --->{} * {} product = {}'.format(row_x,column_y,z[i,j]))\n",
        "  return z\n",
        "\n",
        "x = np.random.random((2,32))\n",
        "y = np.random.random((32,2))\n",
        "print(naive_matrix_vector_dot(x,y))"
      ],
      "metadata": {
        "colab": {
          "base_uri": "https://localhost:8080/"
        },
        "id": "fv41-cwmkTEW",
        "outputId": "ef7f9e5a-420b-43dc-ec2b-e9b6d04dc3b5"
      },
      "execution_count": null,
      "outputs": [
        {
          "output_type": "stream",
          "name": "stdout",
          "text": [
            "[[10.58966201  7.29972719]\n",
            " [10.69090002  9.57449848]]\n"
          ]
        }
      ]
    },
    {
      "cell_type": "code",
      "source": [
        "#product between a matrix and vector\n",
        "def naive_matrix_vector_dot(x,y):\n",
        "  assert len(x.shape) == 2\n",
        "  assert len(y.shape) == 1\n",
        "  assert x.shape[1] == y.shape[0]\n",
        "  print('x shape ---> {}'.format(x.shape))\n",
        "  print('y shape ---> {}'.format(y.shape))\n",
        "  z = np.zeros(x.shape[0])\n",
        "  #print(z)\n",
        "  for i in range(x.shape[0]):\n",
        "    print('proccesing the row --> {}'.format(i))\n",
        "    for j in range(x.shape[1]):\n",
        "      z[i] += x[i, j] * y[j]\n",
        "      #print('row_x {} is multiplied on column_y  {} --->{} * {} product = {}'.format(x[i,j],y[j],x[i, j],y[j],z[i]))\n",
        "  return z\n",
        "\n",
        "x = np.random.random((2,32))\n",
        "y = np.random.random((32,))\n",
        "print(naive_matrix_vector_dot(x,y))"
      ],
      "metadata": {
        "colab": {
          "base_uri": "https://localhost:8080/"
        },
        "outputId": "ef4be2f3-d964-4c6c-d138-31ab3886af10",
        "id": "CU_pZ7_6wiHa"
      },
      "execution_count": null,
      "outputs": [
        {
          "output_type": "stream",
          "name": "stdout",
          "text": [
            "x shape ---> (2, 32)\n",
            "y shape ---> (32,)\n",
            "proccesing the row --> 0\n",
            "proccesing the row --> 1\n",
            "[9.16615563 8.26651243]\n"
          ]
        }
      ]
    },
    {
      "cell_type": "code",
      "source": [
        "#2.3.4 Tensor reshaping\n",
        "train_images = train_images.reshape((60000,28 * 28))\n",
        "train_images.shape\n"
      ],
      "metadata": {
        "colab": {
          "base_uri": "https://localhost:8080/"
        },
        "id": "sSadgcx2q1zM",
        "outputId": "fa5a444f-ba64-4d85-8a09-aa38486dc89d"
      },
      "execution_count": null,
      "outputs": [
        {
          "output_type": "execute_result",
          "data": {
            "text/plain": [
              "(60000, 784)"
            ]
          },
          "metadata": {},
          "execution_count": 84
        }
      ]
    },
    {
      "cell_type": "code",
      "source": [
        "x = np.array([\n",
        "    [0., 1.],\n",
        "    [2.,3.],\n",
        "    [4.,5.]\n",
        "])\n",
        "x.shape"
      ],
      "metadata": {
        "colab": {
          "base_uri": "https://localhost:8080/"
        },
        "id": "FcJtJ_KoFzBD",
        "outputId": "1ae6ed89-b17a-4d21-8f51-708bb2d65a2f"
      },
      "execution_count": null,
      "outputs": [
        {
          "output_type": "execute_result",
          "data": {
            "text/plain": [
              "(3, 2)"
            ]
          },
          "metadata": {},
          "execution_count": 86
        }
      ]
    },
    {
      "cell_type": "code",
      "source": [
        "x = x.reshape((6,1))\n",
        "x"
      ],
      "metadata": {
        "colab": {
          "base_uri": "https://localhost:8080/"
        },
        "id": "xx5DgeGIKDRH",
        "outputId": "ff181f38-ae26-492c-b793-e996486d2395"
      },
      "execution_count": null,
      "outputs": [
        {
          "output_type": "execute_result",
          "data": {
            "text/plain": [
              "array([[0.],\n",
              "       [1.],\n",
              "       [2.],\n",
              "       [3.],\n",
              "       [4.],\n",
              "       [5.]])"
            ]
          },
          "metadata": {},
          "execution_count": 88
        }
      ]
    },
    {
      "cell_type": "code",
      "source": [
        "x = np.zeros((300, 20))\n",
        "x = np.transpose(x)\n",
        "x.shape"
      ],
      "metadata": {
        "colab": {
          "base_uri": "https://localhost:8080/"
        },
        "id": "-ZO_N6VaLXFW",
        "outputId": "123c92f0-968b-450b-a37c-4077a80149e0"
      },
      "execution_count": null,
      "outputs": [
        {
          "output_type": "execute_result",
          "data": {
            "text/plain": [
              "(20, 300)"
            ]
          },
          "metadata": {},
          "execution_count": 92
        }
      ]
    },
    {
      "cell_type": "code",
      "source": [
        "#2.3.5 Geometric interpretation of tensor operations\n",
        "m = np.random.normal(1.0, 0.2, 10)\n",
        "a = [0.5, 1]\n",
        "ms = np.random.uniform(1,.2,10)\n",
        "mx = np.arange(0,1,0.1)\n",
        "my = mx.reshape(10,1,order='c')\n",
        "#m = np.array([10,mx])\n",
        "my"
      ],
      "metadata": {
        "colab": {
          "base_uri": "https://localhost:8080/"
        },
        "id": "uJJ4XTf6NfFu",
        "outputId": "76d1050e-c4f5-4241-ec58-58d6c99d9984"
      },
      "execution_count": null,
      "outputs": [
        {
          "output_type": "execute_result",
          "data": {
            "text/plain": [
              "array([[0. ],\n",
              "       [0.1],\n",
              "       [0.2],\n",
              "       [0.3],\n",
              "       [0.4],\n",
              "       [0.5],\n",
              "       [0.6],\n",
              "       [0.7],\n",
              "       [0.8],\n",
              "       [0.9]])"
            ]
          },
          "metadata": {},
          "execution_count": 207
        }
      ]
    },
    {
      "cell_type": "code",
      "source": [
        "#THE GRADIENT TAPE IN TENSORFLOW\n",
        "import tensorflow as tf\n",
        "x = tf.Variable(0.)\n",
        "with tf.GradientTape() as tape:\n",
        "  y = 2 * x + 3\n",
        "grad_of_y_wrt_x = tape.gradient(y,x)\n",
        "x = tf.Variable(tf.random.uniform((2,2)))\n",
        "with tf.GradientTape() as tape:\n",
        "  y = 2 * x + 3\n",
        "grad_of_y_wrt_x = tape.gradient(y,x)\n",
        "print(grad_of_y_wrt_x)\n",
        "\n"
      ],
      "metadata": {
        "id": "NCRILLxkwW9f",
        "colab": {
          "base_uri": "https://localhost:8080/"
        },
        "outputId": "b05006c2-21e4-45d7-bd32-874d3af6ba1f"
      },
      "execution_count": 6,
      "outputs": [
        {
          "output_type": "stream",
          "name": "stdout",
          "text": [
            "tf.Tensor(\n",
            "[[2. 2.]\n",
            " [2. 2.]], shape=(2, 2), dtype=float32)\n"
          ]
        }
      ]
    },
    {
      "cell_type": "code",
      "source": [
        "#It also works with lists of variables: \n",
        "W = tf.Variable(tf.random.uniform((2, 2))) \n",
        "b = tf.Variable(tf.zeros((2,))) \n",
        "x = tf.random.uniform((2, 2)) \n",
        "with tf.GradientTape() as tape:\n",
        "  y = tf.matmul(x, W) + b\n",
        "  grad_of_y_wrt_W_and_b = tape.gradient(y, [W, b])\n",
        "print(grad_of_y_wrt_W_and_b)"
      ],
      "metadata": {
        "colab": {
          "base_uri": "https://localhost:8080/"
        },
        "id": "1F8byvFQW4tx",
        "outputId": "17880817-dc73-4822-a3ec-4f840f3c8fd1"
      },
      "execution_count": 8,
      "outputs": [
        {
          "output_type": "stream",
          "name": "stdout",
          "text": [
            "[<tf.Tensor: shape=(2, 2), dtype=float32, numpy=\n",
            "array([[0.6332469, 0.6332469],\n",
            "       [0.8961519, 0.8961519]], dtype=float32)>, <tf.Tensor: shape=(2,), dtype=float32, numpy=array([2., 2.], dtype=float32)>]\n"
          ]
        }
      ]
    },
    {
      "cell_type": "code",
      "source": [
        "#2.5.1 Reimplement our first example from scratch in TensorFlow\n",
        "import tensorflow as tf\n",
        "class NaiveDense:\n",
        "  def __init__(self, input_size,output_size,activation):\n",
        "    self.activation = activation\n",
        "\n",
        "    w_shape = (input_size,output_size) #Create a matrix, W, of shape (input_size, output_size), initialized with random values.\n",
        "    w_initial_value = tf.radom.uniform(w_shape, minval=0, maxval=1e-1)\n",
        "    self.W = tf.Variable(w_initial_value)\n",
        "\n",
        "    b_shape =(output_size,) #I am not sure ---> Create a vector, b, of shape (output_size,), initialized with zeros.\n",
        "    b_initial_values = tf.zeros(b_shape)\n",
        "    self.b = tf.Variable(b_initial_values)\n",
        "\n",
        "  def __call__(self, inputs): #Apply the forwads pass\n",
        "    return self.activation(tf.matmul(inputs,self.W) + self.b)\n",
        "\n",
        "  @property\n",
        "  def weights(self): # Convenience method for retrieving the layer’s weights\n",
        "    return [self.W, self.b]"
      ],
      "metadata": {
        "id": "PKhnpU--aE83"
      },
      "execution_count": 9,
      "outputs": []
    }
  ]
}